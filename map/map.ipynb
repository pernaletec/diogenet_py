{
 "cells": [
  {
   "cell_type": "code",
   "execution_count": null,
   "metadata": {},
   "outputs": [],
   "source": [
    "import plotly.graph_objects as go\n",
    "import networkx as nx\n",
    "\n",
    "fig = go.Figure(go.Scattermapbox(\n",
    "    mode = \"markers+lines\",\n",
    "    lon = [10, 20, 30],\n",
    "    lat = [10, 20,30],\n",
    "    marker = {'size': 10}))\n",
    "\n",
    "fig.add_trace(go.Scattermapbox(\n",
    "    mode = \"markers+lines\",\n",
    "    lon = [10, 70],\n",
    "    lat = [10, 40],\n",
    "    marker = {'size': 10}))\n",
    "\n",
    "fig.update_layout(\n",
    "    margin ={'l':0,'t':0,'b':0,'r':0},\n",
    "    mapbox = {\n",
    "        'center': {'lon': 10, 'lat': 10},\n",
    "        'style': \"stamen-terrain\",\n",
    "        'center': {'lon': -10, 'lat': -20},\n",
    "        'zoom': 1})\n",
    "\n",
    "fig.show()"
   ]
  },
  {
   "cell_type": "code",
   "execution_count": null,
   "metadata": {},
   "outputs": [],
   "source": [
    "import plotly.graph_objects as go\n",
    "import pandas as pd\n",
    "\n",
    "\n",
    "\n",
    "df = pd.read_csv('data.csv')\n",
    "site_lat = df.lat\n",
    "site_lon = df.lon\n",
    "locations_name = df.text\n",
    "\n",
    "fig = go.Figure()\n",
    "\n",
    "fig.add_trace(go.Scattermapbox(\n",
    "        lat=site_lat,\n",
    "        lon=site_lon,\n",
    "        mode='markers+lines',\n",
    "        marker=go.scattermapbox.Marker(\n",
    "            size=17,\n",
    "            color='rgb(255, 0, 0)',\n",
    "            opacity=0.7\n",
    "        ),\n",
    "        text=locations_name,\n",
    "        hoverinfo='text'\n",
    "    ))\n",
    "\n",
    "fig.add_trace(go.Scattermapbox(\n",
    "        lat=site_lat,\n",
    "        lon=site_lon,\n",
    "        mode='markers',\n",
    "        marker=go.scattermapbox.Marker(\n",
    "            size=7,\n",
    "            color='rgb(242, 177, 172)',\n",
    "            opacity=0.7\n",
    "        ),\n",
    "        hoverinfo='none',\n",
    "    ))\n",
    "\n",
    "fig.update_layout(\n",
    "    title='Nuclear Waste Sites on Campus',\n",
    "    autosize=True,\n",
    "    hovermode='closest',\n",
    "    showlegend=False,\n",
    "    mapbox = {\n",
    "        'center': {'lon': 10, 'lat': 10},\n",
    "        'style': \"stamen-terrain\",\n",
    "        'center': {'lon': -10, 'lat': -20},\n",
    "   \n",
    "    }\n",
    ")\n",
    "\n",
    "fig.show()"
   ]
  },
  {
   "cell_type": "code",
   "execution_count": null,
   "metadata": {},
   "outputs": [],
   "source": [
    "import plotly.graph_objects as go\n",
    "\n",
    "import networkx as nx\n",
    "\n",
    "G = nx.random_geometric_graph(200, 0.125)\n",
    "\n",
    "edge_x = []\n",
    "edge_y = []\n",
    "for edge in G.edges():\n",
    "    x0, y0 = G.nodes[edge[0]]['pos']\n",
    "    x1, y1 = G.nodes[edge[1]]['pos']\n",
    "    edge_x.append(x0)\n",
    "    edge_x.append(x1)\n",
    "    edge_x.append(None)\n",
    "    edge_y.append(y0)\n",
    "    edge_y.append(y1)\n",
    "    edge_y.append(None)\n",
    "\n",
    "edge_trace = go.Scatter(\n",
    "    x=edge_x, y=edge_y,\n",
    "    line=dict(width=0.5, color='#888'),\n",
    "    hoverinfo='none',\n",
    "    mode='lines')\n",
    "\n",
    "node_x = []\n",
    "node_y = []\n",
    "for node in G.nodes():\n",
    "    x, y = G.nodes[node]['pos']\n",
    "    node_x.append(x)\n",
    "    node_y.append(y)\n",
    "\n",
    "node_trace = go.Scatter(\n",
    "    x=node_x, y=node_y,\n",
    "    mode='markers',\n",
    "    hoverinfo='text',\n",
    "    marker=dict(\n",
    "        showscale=True,\n",
    "        # colorscale options\n",
    "        #'Greys' | 'YlGnBu' | 'Greens' | 'YlOrRd' | 'Bluered' | 'RdBu' |\n",
    "        #'Reds' | 'Blues' | 'Picnic' | 'Rainbow' | 'Portland' | 'Jet' |\n",
    "        #'Hot' | 'Blackbody' | 'Earth' | 'Electric' | 'Viridis' |\n",
    "        colorscale='YlGnBu',\n",
    "        reversescale=True,\n",
    "        color=[],\n",
    "        size=10,\n",
    "        colorbar=dict(\n",
    "            thickness=15,\n",
    "            title='Node Connections',\n",
    "            xanchor='left',\n",
    "            titleside='right'\n",
    "        ),\n",
    "        line_width=2))\n",
    "\n",
    "node_adjacencies = []\n",
    "node_text = []\n",
    "for node, adjacencies in enumerate(G.adjacency()):\n",
    "    node_adjacencies.append(len(adjacencies[1]))\n",
    "    node_text.append('# of connections: '+str(len(adjacencies[1])))\n",
    "\n",
    "node_trace.marker.color = node_adjacencies\n",
    "node_trace.text = node_text\n",
    "\n",
    "fig = go.Figure(data=[edge_trace, node_trace],\n",
    "             layout=go.Layout(\n",
    "                title='<br>Network graph made with Python',\n",
    "                titlefont_size=16,\n",
    "                showlegend=False,\n",
    "                hovermode='closest',\n",
    "                margin=dict(b=20,l=5,r=5,t=40),\n",
    "                annotations=[ dict(\n",
    "                    text=\"Python code: <a href='https://plotly.com/ipython-notebooks/network-graphs/'> https://plotly.com/ipython-notebooks/network-graphs/</a>\",\n",
    "                    showarrow=False,\n",
    "                    xref=\"paper\", yref=\"paper\",\n",
    "                    x=0.005, y=-0.002 ) ],\n",
    "                xaxis=dict(showgrid=False, zeroline=False, showticklabels=False),\n",
    "                yaxis=dict(showgrid=False, zeroline=False, showticklabels=False))\n",
    "                )\n",
    "fig.show()"
   ]
  },
  {
   "cell_type": "code",
   "execution_count": null,
   "metadata": {},
   "outputs": [],
   "source": [
    "import plotly.graph_objects as go\n",
    "import pandas as pd\n",
    "\n",
    "df_airports = pd.read_csv('airports.csv')\n",
    "df_airports.head()\n",
    "\n",
    "df_flight_paths = pd.read_csv('flight_paths.csv')\n",
    "df_flight_paths.head()\n",
    "\n",
    "fig = go.Figure()\n",
    "\n",
    "fig.add_trace(go.Scattergeo(\n",
    "    locationmode = 'USA-states',\n",
    "    lon = df_airports['long'],\n",
    "    lat = df_airports['lat'],\n",
    "    hoverinfo = 'text',\n",
    "    text = df_airports['airport'],\n",
    "    mode = 'markers',\n",
    "    marker = dict(\n",
    "        size = 2,\n",
    "        color = 'rgb(255, 0, 0)',\n",
    "        line = dict(\n",
    "            width = 3,\n",
    "            color = 'rgba(68, 68, 68, 0)'\n",
    "        )\n",
    "    )))\n",
    "\n",
    "flight_paths = []\n",
    "for i in range(len(df_flight_paths)):\n",
    "    fig.add_trace(\n",
    "        go.Scattergeo(\n",
    "            locationmode = 'USA-states',\n",
    "            lon = [df_flight_paths['start_lon'][i], df_flight_paths['end_lon'][i]],\n",
    "            lat = [df_flight_paths['start_lat'][i], df_flight_paths['end_lat'][i]],\n",
    "            mode = 'lines',\n",
    "            line = dict(width = 1,color = 'red'),\n",
    "            opacity = float(df_flight_paths['cnt'][i]) / float(df_flight_paths['cnt'].max()),\n",
    "            showlegend=True\n",
    "        )\n",
    "    )\n",
    "\n",
    "fig.update_layout(\n",
    "    title_text = 'Feb. 2011 American Airline flight paths<br>(Hover for airport names)',\n",
    "    showlegend = False,\n",
    "    geo = dict(\n",
    "        scope = 'north america',\n",
    "        projection_type = 'azimuthal equal area',\n",
    "        showland = True,\n",
    "        landcolor = 'rgb(243, 243, 243)',\n",
    "        countrycolor = 'rgb(204, 204, 204)',\n",
    "    ),\n",
    ")\n",
    "\n",
    "fig.show()"
   ]
  },
  {
   "cell_type": "code",
   "execution_count": 54,
   "metadata": {},
   "outputs": [
    {
     "name": "stdout",
     "output_type": "stream",
     "text": [
      "   Unnamed: 0      Source SourceColor  SourceSize              Destination  \\\n",
      "0           0       Syria     #440154           4                  Athenae   \n",
      "1           1     Athenae     #fde725           6                   Sicily   \n",
      "2           2     Athenae     #fde725           6                 Syracuse   \n",
      "3           3     Athenae     #fde725           6          Megara (Attica)   \n",
      "4           4  Agrigentum     #440154           4  Taras/Tarentum/Neptunia   \n",
      "\n",
      "  DestinationColor  DestinationSize   Philosopher  SourceLatitude  \\\n",
      "0          #fde725                6    A Magician       38.295542   \n",
      "1          #3e4a89                4     Aeschines       37.971687   \n",
      "2          #482878                4     Aeschines       37.971687   \n",
      "3          #482878                4     Aeschines       37.971687   \n",
      "4          #440154                4  Agrigentines       37.289646   \n",
      "\n",
      "   SourceLongitude  DestLatitude  DestLongitude  \n",
      "0        20.592532     37.971687      23.726464  \n",
      "1        23.726464     37.599958      14.015378  \n",
      "2        23.726464     37.059630      15.293820  \n",
      "3        23.726464     37.994710      23.343240  \n",
      "4        13.591997     40.469229      17.240045  \n"
     ]
    },
    {
     "data": {
      "application/vnd.plotly.v1+json": {
       "config": {
        "plotlyServerURL": "https://plot.ly"
       },
       "data": [
        {
         "hoverinfo": "lon+lat+text",
         "lat": [
          38.295542,
          37.971687,
          37.971687,
          37.971687,
          37.28964600000001,
          37.971687,
          37.891781,
          47.5,
          37.971687,
          38.3614,
          38.3614,
          37.971687,
          38.3614,
          37.63794,
          40.95,
          38.016541,
          37.971687,
          37.971687,
          37.971687,
          38.488314,
          37.531526,
          40.469229,
          37.99471,
          32.8180895,
          32.8180895,
          37.971687,
          40.593031,
          37.971687,
          40.593031,
          40.593031,
          40.593031,
          41.25,
          37.831664,
          37.891781,
          38.488314,
          37.971687,
          46.691895,
          37.971687,
          37.971687,
          36.920059,
          37.971687,
          37.971687,
          37.971687,
          38.319236,
          37.971687,
          37.937309,
          41.25,
          40.95,
          40.95,
          40.95,
          40.95,
          40.95,
          37.971687,
          31.201435,
          37.971687,
          37.971687,
          37.971687,
          37.59995833,
          37.59995833,
          37.59995833,
          37.59995833,
          37.59995833,
          37.59995833,
          37.59995833,
          37.59995833,
          37.616619,
          36.894723,
          37.05963,
          37.59995833,
          37.99471,
          37.73,
          40.346685,
          37.971687,
          37.73,
          37.47459600000001,
          37.971687,
          35.23189721,
          36.730968,
          36.730968,
          37.971687,
          36.730968,
          36.730968,
          27.884516,
          37.971687,
          40.469229,
          37.971687,
          37.971687,
          37.971687,
          37.971687,
          37.2454182,
          37.2454182,
          37.938183,
          40.469229,
          39.29195,
          39.29195,
          37.99471,
          37.891781,
          38.319236,
          37.906045,
          37.531526,
          37.183107,
          37.73,
          37.43,
          37.63794,
          37.43,
          43,
          37.59995833,
          37.971687,
          37.971687,
          37.971687,
          37.971687,
          37.971687,
          37.971687,
          37.971687,
          37.971687,
          37.971687,
          37.59995833,
          37.971687,
          38.488314,
          37.971687,
          38.928297,
          37.891781,
          37.891781,
          37.73,
          37.73,
          37.73,
          37.73,
          37.73,
          37.73,
          37.73,
          37.73,
          37.73,
          37.73,
          37.971687,
          37.971687,
          37.971687,
          37.971687,
          37.971687,
          37.971687,
          37.971687,
          37.94874,
          27.884516,
          37.971687,
          35.14052197,
          35.23189721,
          37.971687,
          31.201435,
          37.971687,
          37.99471,
          35.23189721,
          27.884516,
          37.971687,
          37.971687,
          32.8180895,
          37.971687,
          36.730968,
          37.831664,
          37.831664,
          37.891781,
          37.831664,
          37.99471,
          37.971687,
          37.971421,
          37.59995833,
          38.109632,
          38.109632,
          38.109632,
          37.59995833,
          37.971687,
          37.971687,
          37.971687,
          37.971687,
          37.971687,
          37.971687,
          37.971687,
          37.971687,
          37.938183,
          37.971687,
          37.971687,
          37.971687,
          37.971687
         ],
         "lon": [
          20.592532,
          23.726464,
          23.726464,
          23.726464,
          13.591997,
          23.726464,
          21.375091,
          27.5,
          23.726464,
          26.7703,
          26.7703,
          23.726464,
          26.7703,
          21.63042,
          24.983333,
          24.420381,
          23.726464,
          23.726464,
          23.726464,
          28.040286,
          27.279561,
          17.240045000000002,
          23.34324,
          21.8578913,
          21.8578913,
          23.726464,
          23.79204,
          23.726464,
          23.79204,
          23.79204,
          23.79204,
          21.75,
          22.641069,
          21.375091,
          28.040286,
          23.726464,
          31.901597,
          23.726464,
          23.726464,
          34.900117,
          23.726464,
          23.726464,
          23.726464,
          23.317355,
          23.726464,
          23.706248,
          21.75,
          24.983333,
          24.983333,
          24.983333,
          24.983333,
          24.983333,
          23.726464,
          29.909773,
          23.726464,
          23.726464,
          23.726464,
          14.01537778,
          14.01537778,
          14.01537778,
          14.01537778,
          14.01537778,
          14.01537778,
          14.01537778,
          14.01537778,
          22.391896,
          27.288034000000003,
          15.293820000000002,
          14.01537778,
          23.34324,
          26.84,
          26.699162,
          23.726464,
          26.84,
          27.508324,
          23.726464,
          24.88625628,
          27.685848,
          27.685848,
          23.726464,
          27.685848,
          27.685848,
          28.39896735,
          23.726464,
          17.240045000000002,
          23.726464,
          23.726464,
          23.726464,
          23.726464,
          28.28124501,
          28.28124501,
          23.645456,
          17.240045000000002,
          22.60593,
          22.60593,
          23.34324,
          21.375091,
          23.317355,
          22.878721,
          27.279561,
          21.922941,
          26.84,
          24.92,
          21.63042,
          24.92,
          12,
          14.01537778,
          23.726464,
          23.726464,
          23.726464,
          23.726464,
          23.726464,
          23.726464,
          23.726464,
          23.726464,
          23.726464,
          14.01537778,
          23.726464,
          28.040286,
          23.726464,
          26.937453,
          21.375091,
          21.375091,
          26.84,
          26.84,
          26.84,
          26.84,
          26.84,
          26.84,
          26.84,
          26.84,
          26.84,
          26.84,
          23.726464,
          23.726464,
          23.726464,
          23.726464,
          23.726464,
          23.726464,
          23.726464,
          23.53379,
          28.39896735,
          23.726464,
          33.40349071,
          24.88625628,
          23.726464,
          29.909773,
          23.726464,
          23.34324,
          24.88625628,
          28.39896735,
          23.726464,
          23.726464,
          21.8578913,
          23.726464,
          27.685848,
          22.641069,
          22.641069,
          21.375091,
          22.641069,
          23.34324,
          23.726464,
          23.726166,
          14.01537778,
          27.14711,
          27.14711,
          27.14711,
          14.01537778,
          23.726464,
          23.726464,
          23.726464,
          23.726464,
          23.726464,
          23.726464,
          23.726464,
          23.726464,
          23.645456,
          23.726464,
          23.726464,
          23.726464,
          23.726464
         ],
         "marker": {
          "color": [
           "#440154",
           "#fde725",
           "#fde725",
           "#fde725",
           "#440154",
           "#fde725",
           "#482878",
           "#440154",
           "#fde725",
           "#482878",
           "#482878",
           "#fde725",
           "#482878",
           "#440154",
           "#482878",
           "#440154",
           "#fde725",
           "#fde725",
           "#fde725",
           "#440154",
           "#440154",
           "#440154",
           "#482878",
           "#482878",
           "#482878",
           "#fde725",
           "#482878",
           "#fde725",
           "#482878",
           "#482878",
           "#482878",
           "#440154",
           "#482878",
           "#482878",
           "#440154",
           "#fde725",
           "#440154",
           "#fde725",
           "#fde725",
           "#440154",
           "#fde725",
           "#fde725",
           "#fde725",
           "#482878",
           "#fde725",
           "#440154",
           "#440154",
           "#482878",
           "#482878",
           "#482878",
           "#482878",
           "#482878",
           "#fde725",
           "#440154",
           "#fde725",
           "#fde725",
           "#fde725",
           "#3e4a89",
           "#3e4a89",
           "#3e4a89",
           "#3e4a89",
           "#3e4a89",
           "#3e4a89",
           "#3e4a89",
           "#3e4a89",
           "#440154",
           "#440154",
           "#482878",
           "#3e4a89",
           "#482878",
           "#3e4a89",
           "#440154",
           "#fde725",
           "#3e4a89",
           "#440154",
           "#fde725",
           "#482878",
           "#482878",
           "#482878",
           "#fde725",
           "#482878",
           "#482878",
           "#482878",
           "#fde725",
           "#440154",
           "#fde725",
           "#fde725",
           "#fde725",
           "#fde725",
           "#440154",
           "#440154",
           "#440154",
           "#440154",
           "#482878",
           "#482878",
           "#482878",
           "#482878",
           "#482878",
           "#482878",
           "#440154",
           "#440154",
           "#3e4a89",
           "#482878",
           "#440154",
           "#482878",
           "#440154",
           "#3e4a89",
           "#fde725",
           "#fde725",
           "#fde725",
           "#fde725",
           "#fde725",
           "#fde725",
           "#fde725",
           "#fde725",
           "#fde725",
           "#3e4a89",
           "#fde725",
           "#440154",
           "#fde725",
           "#482878",
           "#482878",
           "#482878",
           "#3e4a89",
           "#3e4a89",
           "#3e4a89",
           "#3e4a89",
           "#3e4a89",
           "#3e4a89",
           "#3e4a89",
           "#3e4a89",
           "#3e4a89",
           "#3e4a89",
           "#fde725",
           "#fde725",
           "#fde725",
           "#fde725",
           "#fde725",
           "#fde725",
           "#fde725",
           "#482878",
           "#482878",
           "#fde725",
           "#440154",
           "#482878",
           "#fde725",
           "#440154",
           "#fde725",
           "#482878",
           "#482878",
           "#482878",
           "#fde725",
           "#fde725",
           "#482878",
           "#fde725",
           "#482878",
           "#482878",
           "#482878",
           "#482878",
           "#482878",
           "#482878",
           "#fde725",
           "#440154",
           "#3e4a89",
           "#482878",
           "#482878",
           "#482878",
           "#3e4a89",
           "#fde725",
           "#fde725",
           "#fde725",
           "#fde725",
           "#fde725",
           "#fde725",
           "#fde725",
           "#fde725",
           "#440154",
           "#fde725",
           "#fde725",
           "#fde725",
           "#fde725"
          ],
          "line": {
           "color": [
            "#440154",
            "#fde725",
            "#fde725",
            "#fde725",
            "#440154",
            "#fde725",
            "#482878",
            "#440154",
            "#fde725",
            "#482878",
            "#482878",
            "#fde725",
            "#482878",
            "#440154",
            "#482878",
            "#440154",
            "#fde725",
            "#fde725",
            "#fde725",
            "#440154",
            "#440154",
            "#440154",
            "#482878",
            "#482878",
            "#482878",
            "#fde725",
            "#482878",
            "#fde725",
            "#482878",
            "#482878",
            "#482878",
            "#440154",
            "#482878",
            "#482878",
            "#440154",
            "#fde725",
            "#440154",
            "#fde725",
            "#fde725",
            "#440154",
            "#fde725",
            "#fde725",
            "#fde725",
            "#482878",
            "#fde725",
            "#440154",
            "#440154",
            "#482878",
            "#482878",
            "#482878",
            "#482878",
            "#482878",
            "#fde725",
            "#440154",
            "#fde725",
            "#fde725",
            "#fde725",
            "#3e4a89",
            "#3e4a89",
            "#3e4a89",
            "#3e4a89",
            "#3e4a89",
            "#3e4a89",
            "#3e4a89",
            "#3e4a89",
            "#440154",
            "#440154",
            "#482878",
            "#3e4a89",
            "#482878",
            "#3e4a89",
            "#440154",
            "#fde725",
            "#3e4a89",
            "#440154",
            "#fde725",
            "#482878",
            "#482878",
            "#482878",
            "#fde725",
            "#482878",
            "#482878",
            "#482878",
            "#fde725",
            "#440154",
            "#fde725",
            "#fde725",
            "#fde725",
            "#fde725",
            "#440154",
            "#440154",
            "#440154",
            "#440154",
            "#482878",
            "#482878",
            "#482878",
            "#482878",
            "#482878",
            "#482878",
            "#440154",
            "#440154",
            "#3e4a89",
            "#482878",
            "#440154",
            "#482878",
            "#440154",
            "#3e4a89",
            "#fde725",
            "#fde725",
            "#fde725",
            "#fde725",
            "#fde725",
            "#fde725",
            "#fde725",
            "#fde725",
            "#fde725",
            "#3e4a89",
            "#fde725",
            "#440154",
            "#fde725",
            "#482878",
            "#482878",
            "#482878",
            "#3e4a89",
            "#3e4a89",
            "#3e4a89",
            "#3e4a89",
            "#3e4a89",
            "#3e4a89",
            "#3e4a89",
            "#3e4a89",
            "#3e4a89",
            "#3e4a89",
            "#fde725",
            "#fde725",
            "#fde725",
            "#fde725",
            "#fde725",
            "#fde725",
            "#fde725",
            "#482878",
            "#482878",
            "#fde725",
            "#440154",
            "#482878",
            "#fde725",
            "#440154",
            "#fde725",
            "#482878",
            "#482878",
            "#482878",
            "#fde725",
            "#fde725",
            "#482878",
            "#fde725",
            "#482878",
            "#482878",
            "#482878",
            "#482878",
            "#482878",
            "#482878",
            "#fde725",
            "#440154",
            "#3e4a89",
            "#482878",
            "#482878",
            "#482878",
            "#3e4a89",
            "#fde725",
            "#fde725",
            "#fde725",
            "#fde725",
            "#fde725",
            "#fde725",
            "#fde725",
            "#fde725",
            "#440154",
            "#fde725",
            "#fde725",
            "#fde725",
            "#fde725"
           ],
           "width": [
            4,
            6,
            6,
            6,
            4,
            6,
            4,
            4,
            6,
            4,
            4,
            6,
            4,
            4,
            4,
            4,
            6,
            6,
            6,
            4,
            4,
            4,
            4,
            4,
            4,
            6,
            4,
            6,
            4,
            4,
            4,
            4,
            4,
            4,
            4,
            6,
            4,
            6,
            6,
            4,
            6,
            6,
            6,
            4,
            6,
            4,
            4,
            4,
            4,
            4,
            4,
            4,
            6,
            4,
            6,
            6,
            6,
            4,
            4,
            4,
            4,
            4,
            4,
            4,
            4,
            4,
            4,
            4,
            4,
            4,
            5,
            4,
            6,
            5,
            4,
            6,
            4,
            4,
            4,
            6,
            4,
            4,
            4,
            6,
            4,
            6,
            6,
            6,
            6,
            4,
            4,
            4,
            4,
            4,
            4,
            4,
            4,
            4,
            4,
            4,
            4,
            5,
            4,
            4,
            4,
            4,
            4,
            6,
            6,
            6,
            6,
            6,
            6,
            6,
            6,
            6,
            4,
            6,
            4,
            6,
            4,
            4,
            4,
            5,
            5,
            5,
            5,
            5,
            5,
            5,
            5,
            5,
            5,
            6,
            6,
            6,
            6,
            6,
            6,
            6,
            4,
            4,
            6,
            4,
            4,
            6,
            4,
            6,
            4,
            4,
            4,
            6,
            6,
            4,
            6,
            4,
            4,
            4,
            4,
            4,
            4,
            6,
            4,
            4,
            4,
            4,
            4,
            4,
            6,
            6,
            6,
            6,
            6,
            6,
            6,
            6,
            4,
            6,
            6,
            6,
            6
           ]
          },
          "size": [
           6,
           9,
           9,
           9,
           6,
           9,
           6,
           6,
           9,
           6,
           6,
           9,
           6,
           6,
           6,
           6,
           9,
           9,
           9,
           6,
           6,
           6,
           6,
           6,
           6,
           9,
           6,
           9,
           6,
           6,
           6,
           6,
           6,
           6,
           6,
           9,
           6,
           9,
           9,
           6,
           9,
           9,
           9,
           6,
           9,
           6,
           6,
           6,
           6,
           6,
           6,
           6,
           9,
           6,
           9,
           9,
           9,
           6,
           6,
           6,
           6,
           6,
           6,
           6,
           6,
           6,
           6,
           6,
           6,
           6,
           7.5,
           6,
           9,
           7.5,
           6,
           9,
           6,
           6,
           6,
           9,
           6,
           6,
           6,
           9,
           6,
           9,
           9,
           9,
           9,
           6,
           6,
           6,
           6,
           6,
           6,
           6,
           6,
           6,
           6,
           6,
           6,
           7.5,
           6,
           6,
           6,
           6,
           6,
           9,
           9,
           9,
           9,
           9,
           9,
           9,
           9,
           9,
           6,
           9,
           6,
           9,
           6,
           6,
           6,
           7.5,
           7.5,
           7.5,
           7.5,
           7.5,
           7.5,
           7.5,
           7.5,
           7.5,
           7.5,
           9,
           9,
           9,
           9,
           9,
           9,
           9,
           6,
           6,
           9,
           6,
           6,
           9,
           6,
           9,
           6,
           6,
           6,
           9,
           9,
           6,
           9,
           6,
           6,
           6,
           6,
           6,
           6,
           9,
           6,
           6,
           6,
           6,
           6,
           6,
           9,
           9,
           9,
           9,
           9,
           9,
           9,
           9,
           6,
           9,
           9,
           9,
           9
          ]
         },
         "mode": "markers",
         "showlegend": false,
         "text": [
          "Syria",
          "Athenae",
          "Athenae",
          "Athenae",
          "Agrigentum",
          "Athenae",
          "Elis",
          "Skythai",
          "Athenae",
          "Clazomenae",
          "Clazomenae",
          "Athenae",
          "Clazomenae",
          "Olympian Zeus sanctuary (Eleia)",
          "Abdera",
          "Carystus",
          "Athenae",
          "Athenae",
          "Athenae",
          "Sardis",
          "Miletus",
          "Taras/Tarentum/Neptunia",
          "Megara (Attica)",
          "Cyrene",
          "Cyrene",
          "Athenae",
          "Stagira",
          "Athenae",
          "Stagira",
          "Stagira",
          "Stagira",
          "Macedonia",
          "Phlius",
          "Elis",
          "Sardis",
          "Athenae",
          "Borysthenes (Olbia)",
          "Athenae",
          "Athenae",
          "Tarsus",
          "Athenae",
          "Athenae",
          "Athenae",
          "Thebes",
          "Athenae",
          "Phalerum",
          "Macedonia",
          "Abdera",
          "Abdera",
          "Abdera",
          "Abdera",
          "Abdera",
          "Athenae",
          "Alexandria at Egypt",
          "Athenae",
          "Athenae",
          "Athenae",
          "Sicily",
          "Sicily",
          "Sicily",
          "Sicily",
          "Sicily",
          "Sicily",
          "Sicily",
          "Sicily",
          "Mantinea",
          "Kos",
          "Syracuse",
          "Sicily",
          "Megara (Attica)",
          "Samos",
          "Lampsacus",
          "Athenae",
          "Samos",
          "Ionia region (Asia Minor)",
          "Athenae",
          "Creta",
          "Cnidos",
          "Cnidos",
          "Athenae",
          "Cnidos",
          "Cnidos",
          "Ancient Egypt (region)",
          "Athenae",
          "Taras/Tarentum/Neptunia",
          "Athenae",
          "Athenae",
          "Athenae",
          "Athenae",
          "Caria",
          "Caria",
          "Piraeus",
          "Taras/Tarentum/Neptunia",
          "Eretria",
          "Eretria",
          "Megara (Attica)",
          "Elis",
          "Thebes",
          "Corinth",
          "Miletus",
          "Messene",
          "Samos",
          "Syros",
          "Olympian Zeus sanctuary (Eleia)",
          "Syros",
          "Italy",
          "Sicily",
          "Athenae",
          "Athenae",
          "Athenae",
          "Athenae",
          "Athenae",
          "Athenae",
          "Athenae",
          "Athenae",
          "Athenae",
          "Sicily",
          "Athenae",
          "Sardis",
          "Athenae",
          "Pitane",
          "Elis",
          "Elis",
          "Samos",
          "Samos",
          "Samos",
          "Samos",
          "Samos",
          "Samos",
          "Samos",
          "Samos",
          "Samos",
          "Samos",
          "Athenae",
          "Athenae",
          "Athenae",
          "Athenae",
          "Athenae",
          "Athenae",
          "Athenae",
          "Salamis",
          "Ancient Egypt (region)",
          "Athenae",
          "Cyprus",
          "Creta",
          "Athenae",
          "Alexandria at Egypt",
          "Athenae",
          "Megara (Attica)",
          "Creta",
          "Ancient Egypt (region)",
          "Athenae",
          "Athenae",
          "Cyrene",
          "Athenae",
          "Cnidos",
          "Phlius",
          "Phlius",
          "Elis",
          "Phlius",
          "Megara (Attica)",
          "Athenae",
          "Academy of Plato (Athens)",
          "Sicily",
          "Colophon",
          "Colophon",
          "Colophon",
          "Sicily",
          "Athenae",
          "Athenae",
          "Athenae",
          "Athenae",
          "Athenae",
          "Athenae",
          "Athenae",
          "Athenae",
          "Piraeus",
          "Athenae",
          "Athenae",
          "Athenae",
          "Athenae"
         ],
         "type": "scattergeo"
        },
        {
         "hoverinfo": "lon+lat+text",
         "lat": [
          37.971687,
          37.59995833,
          37.05963,
          37.99471,
          40.469229,
          40.193696,
          37.63794,
          38.488314,
          47.5,
          37.032062,
          40.346685,
          38.3614,
          37.47459600000001,
          38.3614,
          35.14052197,
          38.535856,
          41.25,
          40.21302100000001,
          38.928297,
          38.928297,
          37.73,
          40.75,
          32.8180895,
          38.00339058,
          37.906045,
          32.8180895,
          37.971421,
          40.593031,
          38.457139,
          40.75,
          39.110475,
          40.593031,
          39.29195,
          37.831664,
          38.928297,
          46.691895,
          36.195597,
          37.05963,
          37.616619,
          27.884516,
          39.491621,
          36.8501382,
          35.136687,
          38.35,
          37.937309,
          31.201435,
          32.8180895,
          34.5,
          12.5,
          19,
          27.884516,
          22.5,
          37.52255,
          37.278149,
          37.432321,
          37.906045,
          37.75,
          37.05963,
          37.63794,
          37.183107,
          37.05963,
          37.0325,
          37.755,
          39.715766,
          37.54,
          38.319236,
          37.203717,
          36.894723,
          36.894723,
          36.894723,
          38.109632,
          37.73,
          37.73,
          39.110475,
          37.73,
          35.23189721,
          39.7,
          37.938183,
          29.849491,
          36.730968,
          40.361304,
          40.6666672,
          36.730968,
          37.59995833,
          43,
          37.616619,
          37.906045,
          37.432321,
          40.21302100000001,
          38.29388,
          37.875,
          37.2454182,
          38.319236,
          38.29388,
          38.319486,
          39.29195,
          39.29195,
          33.25,
          40.874503,
          33.25,
          37.43,
          37.43,
          38.482289,
          37.43,
          37.397274,
          39.080763,
          39.080763,
          37.59995833,
          37.971421,
          37.906045,
          32.8180895,
          37.99471,
          37.755,
          27.884516,
          38.351682,
          43,
          40.95,
          40.95,
          38.35,
          38.928297,
          38.414,
          37.331323,
          22.5,
          35.23189721,
          27.884516,
          40.383868,
          39.7,
          43,
          39.2074811,
          37.397274,
          41.5,
          37.0325,
          39.080763,
          39.25,
          40.193696,
          37.911431,
          38.351682,
          37.73,
          38.482289,
          36.486032,
          37.01602582,
          37.94874,
          37.94874,
          37.94874,
          37.94874,
          41.25,
          41.119444,
          37.99471,
          37.75,
          33.25,
          33.25,
          33.25,
          32.8180895,
          37.906045,
          36.730968,
          37.938183,
          40.983393,
          38.319236,
          37.831664,
          40.6666672,
          37.831664,
          37.831664,
          40.983393,
          40.983393,
          39.444248,
          38.192251,
          37.502959,
          38.109632,
          37.906045,
          37.75,
          37.891781,
          40.5,
          37.5,
          38.00339058,
          37.432321,
          38.351682,
          34.929596999999994,
          34.929596999999994,
          37.831664,
          37.616619,
          37.891781
         ],
         "lon": [
          23.726464,
          14.01537778,
          15.293820000000002,
          23.34324,
          17.240045000000002,
          23.327812,
          21.63042,
          28.040286,
          27.5,
          27.429126,
          26.699162,
          26.7703,
          27.508324,
          26.7703,
          33.40349071,
          21.336882,
          21.75,
          16.678299,
          26.937453,
          26.937453,
          26.84,
          15.75,
          21.8578913,
          28.583242,
          22.878721,
          21.8578913,
          23.726166,
          23.79204,
          23.621937,
          22.75,
          26.547048,
          23.79204,
          22.60593,
          22.641069,
          26.937453,
          31.901597,
          27.964125,
          15.293820000000002,
          22.391896,
          28.39896735,
          26.339656,
          10.31556135,
          32.814175,
          23.25,
          23.706248,
          29.909773,
          21.8578913,
          46.5,
          37.5,
          39.5,
          28.39896735,
          77.5,
          23.48041,
          27.585572,
          21.726002,
          22.878721,
          21.75,
          15.293820000000002,
          21.63042,
          21.922941,
          15.293820000000002,
          31.6369,
          14.995,
          16.491255,
          22.15,
          23.317355,
          15.181777,
          27.288034000000003,
          27.288034000000003,
          27.288034000000003,
          27.14711,
          26.84,
          26.84,
          26.547048,
          26.84,
          24.88625628,
          26.83333,
          23.645456,
          31.255061,
          27.685848,
          27.927064,
          28.2499999,
          27.685848,
          14.01537778,
          12,
          22.391896,
          22.878721,
          21.726002,
          16.678299,
          23.855162,
          23.625,
          28.28124501,
          23.317355,
          23.855162,
          23.793064,
          22.60593,
          22.60593,
          35.25,
          25.509974,
          35.25,
          24.92,
          24.92,
          22.501169,
          24.92,
          25.268194,
          17.12708,
          17.12708,
          14.01537778,
          23.726166,
          22.878721,
          21.8578913,
          23.34324,
          14.995,
          28.39896735,
          23.653589,
          12,
          24.983333,
          24.983333,
          23.25,
          26.937453,
          26.053,
          22.450723,
          77.5,
          24.88625628,
          28.39896735,
          16.824063,
          26.83333,
          12,
          26.1342123,
          25.268194,
          23.5,
          31.6369,
          17.12708,
          22.25,
          23.327812,
          22.999944,
          23.653589,
          26.84,
          22.501169,
          38.234824,
          35.52573634,
          23.53379,
          23.53379,
          23.53379,
          23.53379,
          21.75,
          29.075278000000004,
          23.34324,
          23.433333,
          35.25,
          35.25,
          35.25,
          21.8578913,
          22.878721,
          27.685848,
          23.645456,
          29.025789000000003,
          23.317355,
          22.641069,
          28.2499999,
          22.641069,
          22.641069,
          29.025789000000003,
          29.025789000000003,
          20.560388,
          15.556634,
          15.088142,
          27.14711,
          22.878721,
          21.75,
          21.375091,
          36.5,
          22.5,
          28.583242,
          21.726002,
          23.653589,
          33.629471,
          33.629471,
          22.641069,
          22.391896,
          21.375091
         ],
         "marker": {
          "color": [
           6,
           4,
           4,
           4,
           4,
           4,
           4,
           4,
           4,
           4,
           4,
           4,
           4,
           4,
           4,
           4,
           4,
           4,
           4,
           4,
           5,
           4,
           4,
           4,
           4,
           4,
           4,
           4,
           4,
           4,
           4,
           4,
           4,
           4,
           4,
           4,
           4,
           4,
           4,
           4,
           4,
           4,
           4,
           4,
           4,
           4,
           4,
           4,
           4,
           4,
           4,
           4,
           4,
           4,
           4,
           4,
           4,
           4,
           4,
           4,
           4,
           4,
           4,
           4,
           4,
           4,
           4,
           4,
           4,
           4,
           4,
           5,
           5,
           4,
           5,
           4,
           4,
           4,
           4,
           4,
           4,
           4,
           4,
           4,
           4,
           4,
           4,
           4,
           4,
           4,
           4,
           4,
           4,
           4,
           4,
           4,
           4,
           4,
           4,
           4,
           4,
           4,
           4,
           4,
           4,
           4,
           4,
           4,
           4,
           4,
           4,
           4,
           4,
           4,
           4,
           4,
           4,
           4,
           4,
           4,
           4,
           4,
           4,
           4,
           4,
           4,
           4,
           4,
           4,
           4,
           4,
           4,
           4,
           4,
           4,
           4,
           4,
           5,
           4,
           4,
           4,
           4,
           4,
           4,
           4,
           4,
           4,
           4,
           4,
           4,
           4,
           4,
           4,
           4,
           4,
           4,
           4,
           4,
           4,
           4,
           4,
           4,
           4,
           4,
           4,
           4,
           4,
           4,
           4,
           4,
           4,
           4,
           4,
           4,
           4,
           4,
           4,
           4,
           4,
           4,
           4
          ],
          "line": {
           "color": [
            6,
            4,
            4,
            4,
            4,
            4,
            4,
            4,
            4,
            4,
            4,
            4,
            4,
            4,
            4,
            4,
            4,
            4,
            4,
            4,
            5,
            4,
            4,
            4,
            4,
            4,
            4,
            4,
            4,
            4,
            4,
            4,
            4,
            4,
            4,
            4,
            4,
            4,
            4,
            4,
            4,
            4,
            4,
            4,
            4,
            4,
            4,
            4,
            4,
            4,
            4,
            4,
            4,
            4,
            4,
            4,
            4,
            4,
            4,
            4,
            4,
            4,
            4,
            4,
            4,
            4,
            4,
            4,
            4,
            4,
            4,
            5,
            5,
            4,
            5,
            4,
            4,
            4,
            4,
            4,
            4,
            4,
            4,
            4,
            4,
            4,
            4,
            4,
            4,
            4,
            4,
            4,
            4,
            4,
            4,
            4,
            4,
            4,
            4,
            4,
            4,
            4,
            4,
            4,
            4,
            4,
            4,
            4,
            4,
            4,
            4,
            4,
            4,
            4,
            4,
            4,
            4,
            4,
            4,
            4,
            4,
            4,
            4,
            4,
            4,
            4,
            4,
            4,
            4,
            4,
            4,
            4,
            4,
            4,
            4,
            4,
            4,
            5,
            4,
            4,
            4,
            4,
            4,
            4,
            4,
            4,
            4,
            4,
            4,
            4,
            4,
            4,
            4,
            4,
            4,
            4,
            4,
            4,
            4,
            4,
            4,
            4,
            4,
            4,
            4,
            4,
            4,
            4,
            4,
            4,
            4,
            4,
            4,
            4,
            4,
            4,
            4,
            4,
            4,
            4,
            4
           ],
           "width": [
            6,
            4,
            4,
            4,
            4,
            4,
            4,
            4,
            4,
            4,
            4,
            4,
            4,
            4,
            4,
            4,
            4,
            4,
            4,
            4,
            5,
            4,
            4,
            4,
            4,
            4,
            4,
            4,
            4,
            4,
            4,
            4,
            4,
            4,
            4,
            4,
            4,
            4,
            4,
            4,
            4,
            4,
            4,
            4,
            4,
            4,
            4,
            4,
            4,
            4,
            4,
            4,
            4,
            4,
            4,
            4,
            4,
            4,
            4,
            4,
            4,
            4,
            4,
            4,
            4,
            4,
            4,
            4,
            4,
            4,
            4,
            5,
            5,
            4,
            5,
            4,
            4,
            4,
            4,
            4,
            4,
            4,
            4,
            4,
            4,
            4,
            4,
            4,
            4,
            4,
            4,
            4,
            4,
            4,
            4,
            4,
            4,
            4,
            4,
            4,
            4,
            4,
            4,
            4,
            4,
            4,
            4,
            4,
            4,
            4,
            4,
            4,
            4,
            4,
            4,
            4,
            4,
            4,
            4,
            4,
            4,
            4,
            4,
            4,
            4,
            4,
            4,
            4,
            4,
            4,
            4,
            4,
            4,
            4,
            4,
            4,
            4,
            5,
            4,
            4,
            4,
            4,
            4,
            4,
            4,
            4,
            4,
            4,
            4,
            4,
            4,
            4,
            4,
            4,
            4,
            4,
            4,
            4,
            4,
            4,
            4,
            4,
            4,
            4,
            4,
            4,
            4,
            4,
            4,
            4,
            4,
            4,
            4,
            4,
            4,
            4,
            4,
            4,
            4,
            4,
            4
           ]
          },
          "showscale": true,
          "size": [
           9,
           6,
           6,
           6,
           6,
           6,
           6,
           6,
           6,
           6,
           6,
           6,
           6,
           6,
           6,
           6,
           6,
           6,
           6,
           6,
           7.5,
           6,
           6,
           6,
           6,
           6,
           6,
           6,
           6,
           6,
           6,
           6,
           6,
           6,
           6,
           6,
           6,
           6,
           6,
           6,
           6,
           6,
           6,
           6,
           6,
           6,
           6,
           6,
           6,
           6,
           6,
           6,
           6,
           6,
           6,
           6,
           6,
           6,
           6,
           6,
           6,
           6,
           6,
           6,
           6,
           6,
           6,
           6,
           6,
           6,
           6,
           7.5,
           7.5,
           6,
           7.5,
           6,
           6,
           6,
           6,
           6,
           6,
           6,
           6,
           6,
           6,
           6,
           6,
           6,
           6,
           6,
           6,
           6,
           6,
           6,
           6,
           6,
           6,
           6,
           6,
           6,
           6,
           6,
           6,
           6,
           6,
           6,
           6,
           6,
           6,
           6,
           6,
           6,
           6,
           6,
           6,
           6,
           6,
           6,
           6,
           6,
           6,
           6,
           6,
           6,
           6,
           6,
           6,
           6,
           6,
           6,
           6,
           6,
           6,
           6,
           6,
           6,
           6,
           7.5,
           6,
           6,
           6,
           6,
           6,
           6,
           6,
           6,
           6,
           6,
           6,
           6,
           6,
           6,
           6,
           6,
           6,
           6,
           6,
           6,
           6,
           6,
           6,
           6,
           6,
           6,
           6,
           6,
           6,
           6,
           6,
           6,
           6,
           6,
           6,
           6,
           6,
           6,
           6,
           6,
           6,
           6,
           6
          ]
         },
         "mode": "markers",
         "showlegend": false,
         "text": [
          "Athenae",
          "Sicily",
          "Syracuse",
          "Megara (Attica)",
          "Taras/Tarentum/Neptunia",
          "Potidaea",
          "Olympian Zeus sanctuary (Eleia)",
          "Sardis",
          "Skythai",
          "Halicarnassus",
          "Lampsacus",
          "Clazomenae",
          "Ionia region (Asia Minor)",
          "Clazomenae",
          "Cyprus",
          "Lysimachia",
          "Macedonia",
          "Heraclea",
          "Pitane",
          "Pitane",
          "Samos",
          "Lucania",
          "Cyrene",
          "Asia",
          "Corinth",
          "Cyrene",
          "Academy of Plato (Athens)",
          "Stagira",
          "Chalcis",
          "Borboros",
          "Mitylene",
          "Stagira",
          "Eretria",
          "Phlius",
          "Pitane",
          "Borysthenes (Olbia)",
          "Rhodos (island)",
          "Syracuse",
          "Mantinea",
          "Ancient Egypt (region)",
          "Assos",
          "Carthago",
          "Soli",
          "Boeotia",
          "Phalerum",
          "Alexandria at Egypt",
          "Cyrene",
          "Persia",
          "Aethiopia",
          "Red Sea",
          "Ancient Egypt (region)",
          "India",
          "Calauria",
          "Iasos",
          "Lepreum",
          "Corinth",
          "Skillous",
          "Syracuse",
          "Olympian Zeus sanctuary (Eleia)",
          "Messene",
          "Syracuse",
          "Hades (Place)",
          "Aetna M.",
          "Thurii",
          "Peloponnesus",
          "Thebes",
          "Megara Hyblaea",
          "Kos",
          "Kos",
          "Kos",
          "Colophon",
          "Samos",
          "Samos",
          "Mitylene",
          "Samos",
          "Creta",
          "Ida",
          "Piraeus",
          "Memphis (Egypt)",
          "Cnidos",
          "Cyzicus",
          "Propontis",
          "Cnidos",
          "Sicily",
          "Italy",
          "Mantinea",
          "Corinth",
          "Lepreum",
          "Heraclea",
          "Amphiareion",
          "Munichia",
          "Caria",
          "Thebes",
          "Amphiareion",
          "Oropus",
          "Eretria",
          "Eretria",
          "Phoenicia",
          "Maronea",
          "Phoenicia",
          "Syros",
          "Syros",
          "Delphi",
          "Syros",
          "Delos",
          "Crotone",
          "Crotone",
          "Sicily",
          "Academy of Plato (Athens)",
          "Corinth",
          "Cyrene",
          "Megara (Attica)",
          "Aetna M.",
          "Ancient Egypt (region)",
          "Delium",
          "Italy",
          "Abdera",
          "Abdera",
          "Boeotia",
          "Pitane",
          "Chios (island)",
          "Alpheios river",
          "India",
          "Creta",
          "Ancient Egypt (region)",
          "Metapontum",
          "Ida",
          "Italy",
          "Lesbos",
          "Delos",
          "Nestos (river)",
          "Hades (Place)",
          "Crotone",
          "Phthia",
          "Potidaea",
          "Isthmus",
          "Delium",
          "Samos",
          "Delphi",
          "Amphipolis",
          "Cilicia",
          "Salamis",
          "Salamis",
          "Salamis",
          "Salamis",
          "Macedonia",
          "Bosporus",
          "Megara (Attica)",
          "Aegina",
          "Phoenicia",
          "Phoenicia",
          "Phoenicia",
          "Cyrene",
          "Corinth",
          "Cnidos",
          "Piraeus",
          "Chalcedon",
          "Thebes",
          "Phlius",
          "Propontis",
          "Phlius",
          "Phlius",
          "Chalcedon",
          "Chalcedon",
          "Elea",
          "Zancle",
          "Katane",
          "Colophon",
          "Corinth",
          "Skillous",
          "Elis",
          "Pontus",
          "Hellas",
          "Asia",
          "Lepreum",
          "Delium",
          "Kition (Cyprus)",
          "Kition (Cyprus)",
          "Phlius",
          "Mantinea",
          "Elis"
         ],
         "type": "scattergeo"
        },
        {
         "hoverinfo": "skip",
         "lat": [
          38.295542,
          37.971687
         ],
         "line": {
          "color": "black",
          "width": 1
         },
         "lon": [
          20.592532,
          23.726464
         ],
         "mode": "lines",
         "showlegend": false,
         "type": "scattergeo"
        },
        {
         "hoverinfo": "skip",
         "lat": [
          37.971687,
          37.59995833
         ],
         "line": {
          "color": "black",
          "width": 1
         },
         "lon": [
          23.726464,
          14.01537778
         ],
         "mode": "lines",
         "showlegend": false,
         "type": "scattergeo"
        },
        {
         "hoverinfo": "skip",
         "lat": [
          37.971687,
          37.05963
         ],
         "line": {
          "color": "black",
          "width": 1
         },
         "lon": [
          23.726464,
          15.293820000000002
         ],
         "mode": "lines",
         "showlegend": false,
         "type": "scattergeo"
        },
        {
         "hoverinfo": "skip",
         "lat": [
          37.971687,
          37.99471
         ],
         "line": {
          "color": "black",
          "width": 1
         },
         "lon": [
          23.726464,
          23.34324
         ],
         "mode": "lines",
         "showlegend": false,
         "type": "scattergeo"
        },
        {
         "hoverinfo": "skip",
         "lat": [
          37.28964600000001,
          40.469229
         ],
         "line": {
          "color": "black",
          "width": 1
         },
         "lon": [
          13.591997,
          17.240045000000002
         ],
         "mode": "lines",
         "showlegend": false,
         "type": "scattergeo"
        },
        {
         "hoverinfo": "skip",
         "lat": [
          37.971687,
          40.193696
         ],
         "line": {
          "color": "black",
          "width": 1
         },
         "lon": [
          23.726464,
          23.327812
         ],
         "mode": "lines",
         "showlegend": false,
         "type": "scattergeo"
        },
        {
         "hoverinfo": "skip",
         "lat": [
          37.891781,
          37.63794
         ],
         "line": {
          "color": "black",
          "width": 1
         },
         "lon": [
          21.375091,
          21.63042
         ],
         "mode": "lines",
         "showlegend": false,
         "type": "scattergeo"
        },
        {
         "hoverinfo": "skip",
         "lat": [
          47.5,
          38.488314
         ],
         "line": {
          "color": "black",
          "width": 1
         },
         "lon": [
          27.5,
          28.040286
         ],
         "mode": "lines",
         "showlegend": false,
         "type": "scattergeo"
        },
        {
         "hoverinfo": "skip",
         "lat": [
          37.971687,
          47.5
         ],
         "line": {
          "color": "black",
          "width": 1
         },
         "lon": [
          23.726464,
          27.5
         ],
         "mode": "lines",
         "showlegend": false,
         "type": "scattergeo"
        },
        {
         "hoverinfo": "skip",
         "lat": [
          38.3614,
          37.032062
         ],
         "line": {
          "color": "black",
          "width": 1
         },
         "lon": [
          26.7703,
          27.429126
         ],
         "mode": "lines",
         "showlegend": false,
         "type": "scattergeo"
        },
        {
         "hoverinfo": "skip",
         "lat": [
          38.3614,
          40.346685
         ],
         "line": {
          "color": "black",
          "width": 1
         },
         "lon": [
          26.7703,
          26.699162
         ],
         "mode": "lines",
         "showlegend": false,
         "type": "scattergeo"
        },
        {
         "hoverinfo": "skip",
         "lat": [
          37.971687,
          38.3614
         ],
         "line": {
          "color": "black",
          "width": 1
         },
         "lon": [
          23.726464,
          26.7703
         ],
         "mode": "lines",
         "showlegend": false,
         "type": "scattergeo"
        },
        {
         "hoverinfo": "skip",
         "lat": [
          38.3614,
          37.47459600000001
         ],
         "line": {
          "color": "black",
          "width": 1
         },
         "lon": [
          26.7703,
          27.508324
         ],
         "mode": "lines",
         "showlegend": false,
         "type": "scattergeo"
        },
        {
         "hoverinfo": "skip",
         "lat": [
          37.63794,
          38.3614
         ],
         "line": {
          "color": "black",
          "width": 1
         },
         "lon": [
          21.63042,
          26.7703
         ],
         "mode": "lines",
         "showlegend": false,
         "type": "scattergeo"
        },
        {
         "hoverinfo": "skip",
         "lat": [
          40.95,
          35.14052197
         ],
         "line": {
          "color": "black",
          "width": 1
         },
         "lon": [
          24.983333,
          33.40349071
         ],
         "mode": "lines",
         "showlegend": false,
         "type": "scattergeo"
        },
        {
         "hoverinfo": "skip",
         "lat": [
          38.016541,
          38.535856
         ],
         "line": {
          "color": "black",
          "width": 1
         },
         "lon": [
          24.420381,
          21.336882
         ],
         "mode": "lines",
         "showlegend": false,
         "type": "scattergeo"
        },
        {
         "hoverinfo": "skip",
         "lat": [
          37.971687,
          41.25
         ],
         "line": {
          "color": "black",
          "width": 1
         },
         "lon": [
          23.726464,
          21.75
         ],
         "mode": "lines",
         "showlegend": false,
         "type": "scattergeo"
        },
        {
         "hoverinfo": "skip",
         "lat": [
          37.971687,
          40.21302100000001
         ],
         "line": {
          "color": "black",
          "width": 1
         },
         "lon": [
          23.726464,
          16.678299
         ],
         "mode": "lines",
         "showlegend": false,
         "type": "scattergeo"
        },
        {
         "hoverinfo": "skip",
         "lat": [
          37.971687,
          38.928297
         ],
         "line": {
          "color": "black",
          "width": 1
         },
         "lon": [
          23.726464,
          26.937453
         ],
         "mode": "lines",
         "showlegend": false,
         "type": "scattergeo"
        },
        {
         "hoverinfo": "skip",
         "lat": [
          38.488314,
          38.928297
         ],
         "line": {
          "color": "black",
          "width": 1
         },
         "lon": [
          28.040286,
          26.937453
         ],
         "mode": "lines",
         "showlegend": false,
         "type": "scattergeo"
        },
        {
         "hoverinfo": "skip",
         "lat": [
          37.531526,
          37.73
         ],
         "line": {
          "color": "black",
          "width": 1
         },
         "lon": [
          27.279561,
          26.84
         ],
         "mode": "lines",
         "showlegend": false,
         "type": "scattergeo"
        },
        {
         "hoverinfo": "skip",
         "lat": [
          40.469229,
          40.75
         ],
         "line": {
          "color": "black",
          "width": 1
         },
         "lon": [
          17.240045000000002,
          15.75
         ],
         "mode": "lines",
         "showlegend": false,
         "type": "scattergeo"
        },
        {
         "hoverinfo": "skip",
         "lat": [
          37.99471,
          32.8180895
         ],
         "line": {
          "color": "black",
          "width": 1
         },
         "lon": [
          23.34324,
          21.8578913
         ],
         "mode": "lines",
         "showlegend": false,
         "type": "scattergeo"
        },
        {
         "hoverinfo": "skip",
         "lat": [
          32.8180895,
          38.00339058
         ],
         "line": {
          "color": "black",
          "width": 1
         },
         "lon": [
          21.8578913,
          28.583242
         ],
         "mode": "lines",
         "showlegend": false,
         "type": "scattergeo"
        },
        {
         "hoverinfo": "skip",
         "lat": [
          32.8180895,
          37.906045
         ],
         "line": {
          "color": "black",
          "width": 1
         },
         "lon": [
          21.8578913,
          22.878721
         ],
         "mode": "lines",
         "showlegend": false,
         "type": "scattergeo"
        },
        {
         "hoverinfo": "skip",
         "lat": [
          37.971687,
          32.8180895
         ],
         "line": {
          "color": "black",
          "width": 1
         },
         "lon": [
          23.726464,
          21.8578913
         ],
         "mode": "lines",
         "showlegend": false,
         "type": "scattergeo"
        },
        {
         "hoverinfo": "skip",
         "lat": [
          40.593031,
          37.971421
         ],
         "line": {
          "color": "black",
          "width": 1
         },
         "lon": [
          23.79204,
          23.726166
         ],
         "mode": "lines",
         "showlegend": false,
         "type": "scattergeo"
        },
        {
         "hoverinfo": "skip",
         "lat": [
          37.971687,
          40.593031
         ],
         "line": {
          "color": "black",
          "width": 1
         },
         "lon": [
          23.726464,
          23.79204
         ],
         "mode": "lines",
         "showlegend": false,
         "type": "scattergeo"
        },
        {
         "hoverinfo": "skip",
         "lat": [
          40.593031,
          38.457139
         ],
         "line": {
          "color": "black",
          "width": 1
         },
         "lon": [
          23.79204,
          23.621937
         ],
         "mode": "lines",
         "showlegend": false,
         "type": "scattergeo"
        },
        {
         "hoverinfo": "skip",
         "lat": [
          40.593031,
          40.75
         ],
         "line": {
          "color": "black",
          "width": 1
         },
         "lon": [
          23.79204,
          22.75
         ],
         "mode": "lines",
         "showlegend": false,
         "type": "scattergeo"
        },
        {
         "hoverinfo": "skip",
         "lat": [
          40.593031,
          39.110475
         ],
         "line": {
          "color": "black",
          "width": 1
         },
         "lon": [
          23.79204,
          26.547048
         ],
         "mode": "lines",
         "showlegend": false,
         "type": "scattergeo"
        },
        {
         "hoverinfo": "skip",
         "lat": [
          41.25,
          40.593031
         ],
         "line": {
          "color": "black",
          "width": 1
         },
         "lon": [
          21.75,
          23.79204
         ],
         "mode": "lines",
         "showlegend": false,
         "type": "scattergeo"
        },
        {
         "hoverinfo": "skip",
         "lat": [
          37.831664,
          39.29195
         ],
         "line": {
          "color": "black",
          "width": 1
         },
         "lon": [
          22.641069,
          22.60593
         ],
         "mode": "lines",
         "showlegend": false,
         "type": "scattergeo"
        },
        {
         "hoverinfo": "skip",
         "lat": [
          37.891781,
          37.831664
         ],
         "line": {
          "color": "black",
          "width": 1
         },
         "lon": [
          21.375091,
          22.641069
         ],
         "mode": "lines",
         "showlegend": false,
         "type": "scattergeo"
        },
        {
         "hoverinfo": "skip",
         "lat": [
          38.488314,
          38.928297
         ],
         "line": {
          "color": "black",
          "width": 1
         },
         "lon": [
          28.040286,
          26.937453
         ],
         "mode": "lines",
         "showlegend": false,
         "type": "scattergeo"
        },
        {
         "hoverinfo": "skip",
         "lat": [
          37.971687,
          46.691895
         ],
         "line": {
          "color": "black",
          "width": 1
         },
         "lon": [
          23.726464,
          31.901597
         ],
         "mode": "lines",
         "showlegend": false,
         "type": "scattergeo"
        },
        {
         "hoverinfo": "skip",
         "lat": [
          46.691895,
          36.195597
         ],
         "line": {
          "color": "black",
          "width": 1
         },
         "lon": [
          31.901597,
          27.964125
         ],
         "mode": "lines",
         "showlegend": false,
         "type": "scattergeo"
        },
        {
         "hoverinfo": "skip",
         "lat": [
          37.971687,
          37.05963
         ],
         "line": {
          "color": "black",
          "width": 1
         },
         "lon": [
          23.726464,
          15.293820000000002
         ],
         "mode": "lines",
         "showlegend": false,
         "type": "scattergeo"
        },
        {
         "hoverinfo": "skip",
         "lat": [
          37.971687,
          37.616619
         ],
         "line": {
          "color": "black",
          "width": 1
         },
         "lon": [
          23.726464,
          22.391896
         ],
         "mode": "lines",
         "showlegend": false,
         "type": "scattergeo"
        },
        {
         "hoverinfo": "skip",
         "lat": [
          36.920059,
          27.884516
         ],
         "line": {
          "color": "black",
          "width": 1
         },
         "lon": [
          34.900117,
          28.39896735
         ],
         "mode": "lines",
         "showlegend": false,
         "type": "scattergeo"
        },
        {
         "hoverinfo": "skip",
         "lat": [
          37.971687,
          39.491621
         ],
         "line": {
          "color": "black",
          "width": 1
         },
         "lon": [
          23.726464,
          26.339656
         ],
         "mode": "lines",
         "showlegend": false,
         "type": "scattergeo"
        },
        {
         "hoverinfo": "skip",
         "lat": [
          37.971687,
          36.8501382
         ],
         "line": {
          "color": "black",
          "width": 1
         },
         "lon": [
          23.726464,
          10.31556135
         ],
         "mode": "lines",
         "showlegend": false,
         "type": "scattergeo"
        },
        {
         "hoverinfo": "skip",
         "lat": [
          37.971687,
          35.136687
         ],
         "line": {
          "color": "black",
          "width": 1
         },
         "lon": [
          23.726464,
          32.814175
         ],
         "mode": "lines",
         "showlegend": false,
         "type": "scattergeo"
        },
        {
         "hoverinfo": "skip",
         "lat": [
          38.319236,
          38.35
         ],
         "line": {
          "color": "black",
          "width": 1
         },
         "lon": [
          23.317355,
          23.25
         ],
         "mode": "lines",
         "showlegend": false,
         "type": "scattergeo"
        },
        {
         "hoverinfo": "skip",
         "lat": [
          37.971687,
          37.937309
         ],
         "line": {
          "color": "black",
          "width": 1
         },
         "lon": [
          23.726464,
          23.706248
         ],
         "mode": "lines",
         "showlegend": false,
         "type": "scattergeo"
        },
        {
         "hoverinfo": "skip",
         "lat": [
          37.937309,
          31.201435
         ],
         "line": {
          "color": "black",
          "width": 1
         },
         "lon": [
          23.706248,
          29.909773
         ],
         "mode": "lines",
         "showlegend": false,
         "type": "scattergeo"
        },
        {
         "hoverinfo": "skip",
         "lat": [
          41.25,
          32.8180895
         ],
         "line": {
          "color": "black",
          "width": 1
         },
         "lon": [
          21.75,
          21.8578913
         ],
         "mode": "lines",
         "showlegend": false,
         "type": "scattergeo"
        },
        {
         "hoverinfo": "skip",
         "lat": [
          40.95,
          34.5
         ],
         "line": {
          "color": "black",
          "width": 1
         },
         "lon": [
          24.983333,
          46.5
         ],
         "mode": "lines",
         "showlegend": false,
         "type": "scattergeo"
        },
        {
         "hoverinfo": "skip",
         "lat": [
          40.95,
          12.5
         ],
         "line": {
          "color": "black",
          "width": 1
         },
         "lon": [
          24.983333,
          37.5
         ],
         "mode": "lines",
         "showlegend": false,
         "type": "scattergeo"
        },
        {
         "hoverinfo": "skip",
         "lat": [
          40.95,
          19
         ],
         "line": {
          "color": "black",
          "width": 1
         },
         "lon": [
          24.983333,
          39.5
         ],
         "mode": "lines",
         "showlegend": false,
         "type": "scattergeo"
        },
        {
         "hoverinfo": "skip",
         "lat": [
          40.95,
          27.884516
         ],
         "line": {
          "color": "black",
          "width": 1
         },
         "lon": [
          24.983333,
          28.39896735
         ],
         "mode": "lines",
         "showlegend": false,
         "type": "scattergeo"
        },
        {
         "hoverinfo": "skip",
         "lat": [
          40.95,
          22.5
         ],
         "line": {
          "color": "black",
          "width": 1
         },
         "lon": [
          24.983333,
          77.5
         ],
         "mode": "lines",
         "showlegend": false,
         "type": "scattergeo"
        },
        {
         "hoverinfo": "skip",
         "lat": [
          37.971687,
          37.52255
         ],
         "line": {
          "color": "black",
          "width": 1
         },
         "lon": [
          23.726464,
          23.48041
         ],
         "mode": "lines",
         "showlegend": false,
         "type": "scattergeo"
        },
        {
         "hoverinfo": "skip",
         "lat": [
          31.201435,
          37.278149
         ],
         "line": {
          "color": "black",
          "width": 1
         },
         "lon": [
          29.909773,
          27.585572
         ],
         "mode": "lines",
         "showlegend": false,
         "type": "scattergeo"
        },
        {
         "hoverinfo": "skip",
         "lat": [
          37.971687,
          37.432321
         ],
         "line": {
          "color": "black",
          "width": 1
         },
         "lon": [
          23.726464,
          21.726002
         ],
         "mode": "lines",
         "showlegend": false,
         "type": "scattergeo"
        },
        {
         "hoverinfo": "skip",
         "lat": [
          37.971687,
          37.906045
         ],
         "line": {
          "color": "black",
          "width": 1
         },
         "lon": [
          23.726464,
          22.878721
         ],
         "mode": "lines",
         "showlegend": false,
         "type": "scattergeo"
        },
        {
         "hoverinfo": "skip",
         "lat": [
          37.971687,
          37.75
         ],
         "line": {
          "color": "black",
          "width": 1
         },
         "lon": [
          23.726464,
          21.75
         ],
         "mode": "lines",
         "showlegend": false,
         "type": "scattergeo"
        },
        {
         "hoverinfo": "skip",
         "lat": [
          37.59995833,
          37.05963
         ],
         "line": {
          "color": "black",
          "width": 1
         },
         "lon": [
          14.01537778,
          15.293820000000002
         ],
         "mode": "lines",
         "showlegend": false,
         "type": "scattergeo"
        },
        {
         "hoverinfo": "skip",
         "lat": [
          37.59995833,
          37.63794
         ],
         "line": {
          "color": "black",
          "width": 1
         },
         "lon": [
          14.01537778,
          21.63042
         ],
         "mode": "lines",
         "showlegend": false,
         "type": "scattergeo"
        },
        {
         "hoverinfo": "skip",
         "lat": [
          37.59995833,
          37.183107
         ],
         "line": {
          "color": "black",
          "width": 1
         },
         "lon": [
          14.01537778,
          21.922941
         ],
         "mode": "lines",
         "showlegend": false,
         "type": "scattergeo"
        },
        {
         "hoverinfo": "skip",
         "lat": [
          37.59995833,
          37.05963
         ],
         "line": {
          "color": "black",
          "width": 1
         },
         "lon": [
          14.01537778,
          15.293820000000002
         ],
         "mode": "lines",
         "showlegend": false,
         "type": "scattergeo"
        },
        {
         "hoverinfo": "skip",
         "lat": [
          37.59995833,
          37.0325
         ],
         "line": {
          "color": "black",
          "width": 1
         },
         "lon": [
          14.01537778,
          31.6369
         ],
         "mode": "lines",
         "showlegend": false,
         "type": "scattergeo"
        },
        {
         "hoverinfo": "skip",
         "lat": [
          37.59995833,
          37.755
         ],
         "line": {
          "color": "black",
          "width": 1
         },
         "lon": [
          14.01537778,
          14.995
         ],
         "mode": "lines",
         "showlegend": false,
         "type": "scattergeo"
        },
        {
         "hoverinfo": "skip",
         "lat": [
          37.59995833,
          39.715766
         ],
         "line": {
          "color": "black",
          "width": 1
         },
         "lon": [
          14.01537778,
          16.491255
         ],
         "mode": "lines",
         "showlegend": false,
         "type": "scattergeo"
        },
        {
         "hoverinfo": "skip",
         "lat": [
          37.59995833,
          37.54
         ],
         "line": {
          "color": "black",
          "width": 1
         },
         "lon": [
          14.01537778,
          22.15
         ],
         "mode": "lines",
         "showlegend": false,
         "type": "scattergeo"
        },
        {
         "hoverinfo": "skip",
         "lat": [
          37.616619,
          38.319236
         ],
         "line": {
          "color": "black",
          "width": 1
         },
         "lon": [
          22.391896,
          23.317355
         ],
         "mode": "lines",
         "showlegend": false,
         "type": "scattergeo"
        },
        {
         "hoverinfo": "skip",
         "lat": [
          36.894723,
          37.203717
         ],
         "line": {
          "color": "black",
          "width": 1
         },
         "lon": [
          27.288034000000003,
          15.181777
         ],
         "mode": "lines",
         "showlegend": false,
         "type": "scattergeo"
        },
        {
         "hoverinfo": "skip",
         "lat": [
          37.05963,
          36.894723
         ],
         "line": {
          "color": "black",
          "width": 1
         },
         "lon": [
          15.293820000000002,
          27.288034000000003
         ],
         "mode": "lines",
         "showlegend": false,
         "type": "scattergeo"
        },
        {
         "hoverinfo": "skip",
         "lat": [
          37.59995833,
          36.894723
         ],
         "line": {
          "color": "black",
          "width": 1
         },
         "lon": [
          14.01537778,
          27.288034000000003
         ],
         "mode": "lines",
         "showlegend": false,
         "type": "scattergeo"
        },
        {
         "hoverinfo": "skip",
         "lat": [
          37.99471,
          36.894723
         ],
         "line": {
          "color": "black",
          "width": 1
         },
         "lon": [
          23.34324,
          27.288034000000003
         ],
         "mode": "lines",
         "showlegend": false,
         "type": "scattergeo"
        },
        {
         "hoverinfo": "skip",
         "lat": [
          37.73,
          38.109632
         ],
         "line": {
          "color": "black",
          "width": 1
         },
         "lon": [
          26.84,
          27.14711
         ],
         "mode": "lines",
         "showlegend": false,
         "type": "scattergeo"
        },
        {
         "hoverinfo": "skip",
         "lat": [
          40.346685,
          37.73
         ],
         "line": {
          "color": "black",
          "width": 1
         },
         "lon": [
          26.699162,
          26.84
         ],
         "mode": "lines",
         "showlegend": false,
         "type": "scattergeo"
        },
        {
         "hoverinfo": "skip",
         "lat": [
          37.971687,
          37.73
         ],
         "line": {
          "color": "black",
          "width": 1
         },
         "lon": [
          23.726464,
          26.84
         ],
         "mode": "lines",
         "showlegend": false,
         "type": "scattergeo"
        },
        {
         "hoverinfo": "skip",
         "lat": [
          37.73,
          39.110475
         ],
         "line": {
          "color": "black",
          "width": 1
         },
         "lon": [
          26.84,
          26.547048
         ],
         "mode": "lines",
         "showlegend": false,
         "type": "scattergeo"
        },
        {
         "hoverinfo": "skip",
         "lat": [
          37.47459600000001,
          37.73
         ],
         "line": {
          "color": "black",
          "width": 1
         },
         "lon": [
          27.508324,
          26.84
         ],
         "mode": "lines",
         "showlegend": false,
         "type": "scattergeo"
        },
        {
         "hoverinfo": "skip",
         "lat": [
          37.971687,
          35.23189721
         ],
         "line": {
          "color": "black",
          "width": 1
         },
         "lon": [
          23.726464,
          24.88625628
         ],
         "mode": "lines",
         "showlegend": false,
         "type": "scattergeo"
        },
        {
         "hoverinfo": "skip",
         "lat": [
          35.23189721,
          39.7
         ],
         "line": {
          "color": "black",
          "width": 1
         },
         "lon": [
          24.88625628,
          26.83333
         ],
         "mode": "lines",
         "showlegend": false,
         "type": "scattergeo"
        },
        {
         "hoverinfo": "skip",
         "lat": [
          36.730968,
          37.938183
         ],
         "line": {
          "color": "black",
          "width": 1
         },
         "lon": [
          27.685848,
          23.645456
         ],
         "mode": "lines",
         "showlegend": false,
         "type": "scattergeo"
        },
        {
         "hoverinfo": "skip",
         "lat": [
          36.730968,
          29.849491
         ],
         "line": {
          "color": "black",
          "width": 1
         },
         "lon": [
          27.685848,
          31.255061
         ],
         "mode": "lines",
         "showlegend": false,
         "type": "scattergeo"
        },
        {
         "hoverinfo": "skip",
         "lat": [
          37.971687,
          36.730968
         ],
         "line": {
          "color": "black",
          "width": 1
         },
         "lon": [
          23.726464,
          27.685848
         ],
         "mode": "lines",
         "showlegend": false,
         "type": "scattergeo"
        },
        {
         "hoverinfo": "skip",
         "lat": [
          36.730968,
          40.361304
         ],
         "line": {
          "color": "black",
          "width": 1
         },
         "lon": [
          27.685848,
          27.927064
         ],
         "mode": "lines",
         "showlegend": false,
         "type": "scattergeo"
        },
        {
         "hoverinfo": "skip",
         "lat": [
          36.730968,
          40.6666672
         ],
         "line": {
          "color": "black",
          "width": 1
         },
         "lon": [
          27.685848,
          28.2499999
         ],
         "mode": "lines",
         "showlegend": false,
         "type": "scattergeo"
        },
        {
         "hoverinfo": "skip",
         "lat": [
          27.884516,
          36.730968
         ],
         "line": {
          "color": "black",
          "width": 1
         },
         "lon": [
          28.39896735,
          27.685848
         ],
         "mode": "lines",
         "showlegend": false,
         "type": "scattergeo"
        },
        {
         "hoverinfo": "skip",
         "lat": [
          37.971687,
          37.59995833
         ],
         "line": {
          "color": "black",
          "width": 1
         },
         "lon": [
          23.726464,
          14.01537778
         ],
         "mode": "lines",
         "showlegend": false,
         "type": "scattergeo"
        },
        {
         "hoverinfo": "skip",
         "lat": [
          40.469229,
          43
         ],
         "line": {
          "color": "black",
          "width": 1
         },
         "lon": [
          17.240045000000002,
          12
         ],
         "mode": "lines",
         "showlegend": false,
         "type": "scattergeo"
        },
        {
         "hoverinfo": "skip",
         "lat": [
          37.971687,
          37.616619
         ],
         "line": {
          "color": "black",
          "width": 1
         },
         "lon": [
          23.726464,
          22.391896
         ],
         "mode": "lines",
         "showlegend": false,
         "type": "scattergeo"
        },
        {
         "hoverinfo": "skip",
         "lat": [
          37.971687,
          37.906045
         ],
         "line": {
          "color": "black",
          "width": 1
         },
         "lon": [
          23.726464,
          22.878721
         ],
         "mode": "lines",
         "showlegend": false,
         "type": "scattergeo"
        },
        {
         "hoverinfo": "skip",
         "lat": [
          37.971687,
          37.432321
         ],
         "line": {
          "color": "black",
          "width": 1
         },
         "lon": [
          23.726464,
          21.726002
         ],
         "mode": "lines",
         "showlegend": false,
         "type": "scattergeo"
        },
        {
         "hoverinfo": "skip",
         "lat": [
          37.971687,
          40.21302100000001
         ],
         "line": {
          "color": "black",
          "width": 1
         },
         "lon": [
          23.726464,
          16.678299
         ],
         "mode": "lines",
         "showlegend": false,
         "type": "scattergeo"
        },
        {
         "hoverinfo": "skip",
         "lat": [
          37.2454182,
          38.29388
         ],
         "line": {
          "color": "black",
          "width": 1
         },
         "lon": [
          28.28124501,
          23.855162
         ],
         "mode": "lines",
         "showlegend": false,
         "type": "scattergeo"
        },
        {
         "hoverinfo": "skip",
         "lat": [
          37.2454182,
          37.875
         ],
         "line": {
          "color": "black",
          "width": 1
         },
         "lon": [
          28.28124501,
          23.625
         ],
         "mode": "lines",
         "showlegend": false,
         "type": "scattergeo"
        },
        {
         "hoverinfo": "skip",
         "lat": [
          37.938183,
          37.2454182
         ],
         "line": {
          "color": "black",
          "width": 1
         },
         "lon": [
          23.645456,
          28.28124501
         ],
         "mode": "lines",
         "showlegend": false,
         "type": "scattergeo"
        },
        {
         "hoverinfo": "skip",
         "lat": [
          40.469229,
          38.319236
         ],
         "line": {
          "color": "black",
          "width": 1
         },
         "lon": [
          17.240045000000002,
          23.317355
         ],
         "mode": "lines",
         "showlegend": false,
         "type": "scattergeo"
        },
        {
         "hoverinfo": "skip",
         "lat": [
          39.29195,
          38.29388
         ],
         "line": {
          "color": "black",
          "width": 1
         },
         "lon": [
          22.60593,
          23.855162
         ],
         "mode": "lines",
         "showlegend": false,
         "type": "scattergeo"
        },
        {
         "hoverinfo": "skip",
         "lat": [
          39.29195,
          38.319486
         ],
         "line": {
          "color": "black",
          "width": 1
         },
         "lon": [
          22.60593,
          23.793064
         ],
         "mode": "lines",
         "showlegend": false,
         "type": "scattergeo"
        },
        {
         "hoverinfo": "skip",
         "lat": [
          37.99471,
          39.29195
         ],
         "line": {
          "color": "black",
          "width": 1
         },
         "lon": [
          23.34324,
          22.60593
         ],
         "mode": "lines",
         "showlegend": false,
         "type": "scattergeo"
        },
        {
         "hoverinfo": "skip",
         "lat": [
          37.891781,
          39.29195
         ],
         "line": {
          "color": "black",
          "width": 1
         },
         "lon": [
          21.375091,
          22.60593
         ],
         "mode": "lines",
         "showlegend": false,
         "type": "scattergeo"
        },
        {
         "hoverinfo": "skip",
         "lat": [
          38.319236,
          33.25
         ],
         "line": {
          "color": "black",
          "width": 1
         },
         "lon": [
          23.317355,
          35.25
         ],
         "mode": "lines",
         "showlegend": false,
         "type": "scattergeo"
        },
        {
         "hoverinfo": "skip",
         "lat": [
          37.906045,
          40.874503
         ],
         "line": {
          "color": "black",
          "width": 1
         },
         "lon": [
          22.878721,
          25.509974
         ],
         "mode": "lines",
         "showlegend": false,
         "type": "scattergeo"
        },
        {
         "hoverinfo": "skip",
         "lat": [
          37.531526,
          33.25
         ],
         "line": {
          "color": "black",
          "width": 1
         },
         "lon": [
          27.279561,
          35.25
         ],
         "mode": "lines",
         "showlegend": false,
         "type": "scattergeo"
        },
        {
         "hoverinfo": "skip",
         "lat": [
          37.183107,
          37.43
         ],
         "line": {
          "color": "black",
          "width": 1
         },
         "lon": [
          21.922941,
          24.92
         ],
         "mode": "lines",
         "showlegend": false,
         "type": "scattergeo"
        },
        {
         "hoverinfo": "skip",
         "lat": [
          37.73,
          37.43
         ],
         "line": {
          "color": "black",
          "width": 1
         },
         "lon": [
          26.84,
          24.92
         ],
         "mode": "lines",
         "showlegend": false,
         "type": "scattergeo"
        },
        {
         "hoverinfo": "skip",
         "lat": [
          37.43,
          38.482289
         ],
         "line": {
          "color": "black",
          "width": 1
         },
         "lon": [
          24.92,
          22.501169
         ],
         "mode": "lines",
         "showlegend": false,
         "type": "scattergeo"
        },
        {
         "hoverinfo": "skip",
         "lat": [
          37.63794,
          37.43
         ],
         "line": {
          "color": "black",
          "width": 1
         },
         "lon": [
          21.63042,
          24.92
         ],
         "mode": "lines",
         "showlegend": false,
         "type": "scattergeo"
        },
        {
         "hoverinfo": "skip",
         "lat": [
          37.43,
          37.397274
         ],
         "line": {
          "color": "black",
          "width": 1
         },
         "lon": [
          24.92,
          25.268194
         ],
         "mode": "lines",
         "showlegend": false,
         "type": "scattergeo"
        },
        {
         "hoverinfo": "skip",
         "lat": [
          43,
          39.080763
         ],
         "line": {
          "color": "black",
          "width": 1
         },
         "lon": [
          12,
          17.12708
         ],
         "mode": "lines",
         "showlegend": false,
         "type": "scattergeo"
        },
        {
         "hoverinfo": "skip",
         "lat": [
          37.59995833,
          39.080763
         ],
         "line": {
          "color": "black",
          "width": 1
         },
         "lon": [
          14.01537778,
          17.12708
         ],
         "mode": "lines",
         "showlegend": false,
         "type": "scattergeo"
        },
        {
         "hoverinfo": "skip",
         "lat": [
          37.971687,
          37.59995833
         ],
         "line": {
          "color": "black",
          "width": 1
         },
         "lon": [
          23.726464,
          14.01537778
         ],
         "mode": "lines",
         "showlegend": false,
         "type": "scattergeo"
        },
        {
         "hoverinfo": "skip",
         "lat": [
          37.971687,
          37.971421
         ],
         "line": {
          "color": "black",
          "width": 1
         },
         "lon": [
          23.726464,
          23.726166
         ],
         "mode": "lines",
         "showlegend": false,
         "type": "scattergeo"
        },
        {
         "hoverinfo": "skip",
         "lat": [
          37.971687,
          37.906045
         ],
         "line": {
          "color": "black",
          "width": 1
         },
         "lon": [
          23.726464,
          22.878721
         ],
         "mode": "lines",
         "showlegend": false,
         "type": "scattergeo"
        },
        {
         "hoverinfo": "skip",
         "lat": [
          37.971687,
          32.8180895
         ],
         "line": {
          "color": "black",
          "width": 1
         },
         "lon": [
          23.726464,
          21.8578913
         ],
         "mode": "lines",
         "showlegend": false,
         "type": "scattergeo"
        },
        {
         "hoverinfo": "skip",
         "lat": [
          37.971687,
          37.99471
         ],
         "line": {
          "color": "black",
          "width": 1
         },
         "lon": [
          23.726464,
          23.34324
         ],
         "mode": "lines",
         "showlegend": false,
         "type": "scattergeo"
        },
        {
         "hoverinfo": "skip",
         "lat": [
          37.971687,
          37.755
         ],
         "line": {
          "color": "black",
          "width": 1
         },
         "lon": [
          23.726464,
          14.995
         ],
         "mode": "lines",
         "showlegend": false,
         "type": "scattergeo"
        },
        {
         "hoverinfo": "skip",
         "lat": [
          37.971687,
          27.884516
         ],
         "line": {
          "color": "black",
          "width": 1
         },
         "lon": [
          23.726464,
          28.39896735
         ],
         "mode": "lines",
         "showlegend": false,
         "type": "scattergeo"
        },
        {
         "hoverinfo": "skip",
         "lat": [
          37.971687,
          38.351682
         ],
         "line": {
          "color": "black",
          "width": 1
         },
         "lon": [
          23.726464,
          23.653589
         ],
         "mode": "lines",
         "showlegend": false,
         "type": "scattergeo"
        },
        {
         "hoverinfo": "skip",
         "lat": [
          37.971687,
          43
         ],
         "line": {
          "color": "black",
          "width": 1
         },
         "lon": [
          23.726464,
          12
         ],
         "mode": "lines",
         "showlegend": false,
         "type": "scattergeo"
        },
        {
         "hoverinfo": "skip",
         "lat": [
          37.59995833,
          40.95
         ],
         "line": {
          "color": "black",
          "width": 1
         },
         "lon": [
          14.01537778,
          24.983333
         ],
         "mode": "lines",
         "showlegend": false,
         "type": "scattergeo"
        },
        {
         "hoverinfo": "skip",
         "lat": [
          37.971687,
          40.95
         ],
         "line": {
          "color": "black",
          "width": 1
         },
         "lon": [
          23.726464,
          24.983333
         ],
         "mode": "lines",
         "showlegend": false,
         "type": "scattergeo"
        },
        {
         "hoverinfo": "skip",
         "lat": [
          38.488314,
          38.35
         ],
         "line": {
          "color": "black",
          "width": 1
         },
         "lon": [
          28.040286,
          23.25
         ],
         "mode": "lines",
         "showlegend": false,
         "type": "scattergeo"
        },
        {
         "hoverinfo": "skip",
         "lat": [
          37.971687,
          38.928297
         ],
         "line": {
          "color": "black",
          "width": 1
         },
         "lon": [
          23.726464,
          26.937453
         ],
         "mode": "lines",
         "showlegend": false,
         "type": "scattergeo"
        },
        {
         "hoverinfo": "skip",
         "lat": [
          38.928297,
          38.414
         ],
         "line": {
          "color": "black",
          "width": 1
         },
         "lon": [
          26.937453,
          26.053
         ],
         "mode": "lines",
         "showlegend": false,
         "type": "scattergeo"
        },
        {
         "hoverinfo": "skip",
         "lat": [
          37.891781,
          37.331323
         ],
         "line": {
          "color": "black",
          "width": 1
         },
         "lon": [
          21.375091,
          22.450723
         ],
         "mode": "lines",
         "showlegend": false,
         "type": "scattergeo"
        },
        {
         "hoverinfo": "skip",
         "lat": [
          37.891781,
          22.5
         ],
         "line": {
          "color": "black",
          "width": 1
         },
         "lon": [
          21.375091,
          77.5
         ],
         "mode": "lines",
         "showlegend": false,
         "type": "scattergeo"
        },
        {
         "hoverinfo": "skip",
         "lat": [
          37.73,
          35.23189721
         ],
         "line": {
          "color": "black",
          "width": 1
         },
         "lon": [
          26.84,
          24.88625628
         ],
         "mode": "lines",
         "showlegend": false,
         "type": "scattergeo"
        },
        {
         "hoverinfo": "skip",
         "lat": [
          37.73,
          27.884516
         ],
         "line": {
          "color": "black",
          "width": 1
         },
         "lon": [
          26.84,
          28.39896735
         ],
         "mode": "lines",
         "showlegend": false,
         "type": "scattergeo"
        },
        {
         "hoverinfo": "skip",
         "lat": [
          37.73,
          40.383868
         ],
         "line": {
          "color": "black",
          "width": 1
         },
         "lon": [
          26.84,
          16.824063
         ],
         "mode": "lines",
         "showlegend": false,
         "type": "scattergeo"
        },
        {
         "hoverinfo": "skip",
         "lat": [
          37.73,
          39.7
         ],
         "line": {
          "color": "black",
          "width": 1
         },
         "lon": [
          26.84,
          26.83333
         ],
         "mode": "lines",
         "showlegend": false,
         "type": "scattergeo"
        },
        {
         "hoverinfo": "skip",
         "lat": [
          37.73,
          43
         ],
         "line": {
          "color": "black",
          "width": 1
         },
         "lon": [
          26.84,
          12
         ],
         "mode": "lines",
         "showlegend": false,
         "type": "scattergeo"
        },
        {
         "hoverinfo": "skip",
         "lat": [
          37.73,
          39.2074811
         ],
         "line": {
          "color": "black",
          "width": 1
         },
         "lon": [
          26.84,
          26.1342123
         ],
         "mode": "lines",
         "showlegend": false,
         "type": "scattergeo"
        },
        {
         "hoverinfo": "skip",
         "lat": [
          37.73,
          37.397274
         ],
         "line": {
          "color": "black",
          "width": 1
         },
         "lon": [
          26.84,
          25.268194
         ],
         "mode": "lines",
         "showlegend": false,
         "type": "scattergeo"
        },
        {
         "hoverinfo": "skip",
         "lat": [
          37.73,
          41.5
         ],
         "line": {
          "color": "black",
          "width": 1
         },
         "lon": [
          26.84,
          23.5
         ],
         "mode": "lines",
         "showlegend": false,
         "type": "scattergeo"
        },
        {
         "hoverinfo": "skip",
         "lat": [
          37.73,
          37.0325
         ],
         "line": {
          "color": "black",
          "width": 1
         },
         "lon": [
          26.84,
          31.6369
         ],
         "mode": "lines",
         "showlegend": false,
         "type": "scattergeo"
        },
        {
         "hoverinfo": "skip",
         "lat": [
          37.73,
          39.080763
         ],
         "line": {
          "color": "black",
          "width": 1
         },
         "lon": [
          26.84,
          17.12708
         ],
         "mode": "lines",
         "showlegend": false,
         "type": "scattergeo"
        },
        {
         "hoverinfo": "skip",
         "lat": [
          37.971687,
          39.25
         ],
         "line": {
          "color": "black",
          "width": 1
         },
         "lon": [
          23.726464,
          22.25
         ],
         "mode": "lines",
         "showlegend": false,
         "type": "scattergeo"
        },
        {
         "hoverinfo": "skip",
         "lat": [
          37.971687,
          40.193696
         ],
         "line": {
          "color": "black",
          "width": 1
         },
         "lon": [
          23.726464,
          23.327812
         ],
         "mode": "lines",
         "showlegend": false,
         "type": "scattergeo"
        },
        {
         "hoverinfo": "skip",
         "lat": [
          37.971687,
          37.911431
         ],
         "line": {
          "color": "black",
          "width": 1
         },
         "lon": [
          23.726464,
          22.999944
         ],
         "mode": "lines",
         "showlegend": false,
         "type": "scattergeo"
        },
        {
         "hoverinfo": "skip",
         "lat": [
          37.971687,
          38.351682
         ],
         "line": {
          "color": "black",
          "width": 1
         },
         "lon": [
          23.726464,
          23.653589
         ],
         "mode": "lines",
         "showlegend": false,
         "type": "scattergeo"
        },
        {
         "hoverinfo": "skip",
         "lat": [
          37.971687,
          37.73
         ],
         "line": {
          "color": "black",
          "width": 1
         },
         "lon": [
          23.726464,
          26.84
         ],
         "mode": "lines",
         "showlegend": false,
         "type": "scattergeo"
        },
        {
         "hoverinfo": "skip",
         "lat": [
          37.971687,
          38.482289
         ],
         "line": {
          "color": "black",
          "width": 1
         },
         "lon": [
          23.726464,
          22.501169
         ],
         "mode": "lines",
         "showlegend": false,
         "type": "scattergeo"
        },
        {
         "hoverinfo": "skip",
         "lat": [
          37.971687,
          36.486032
         ],
         "line": {
          "color": "black",
          "width": 1
         },
         "lon": [
          23.726464,
          38.234824
         ],
         "mode": "lines",
         "showlegend": false,
         "type": "scattergeo"
        },
        {
         "hoverinfo": "skip",
         "lat": [
          37.94874,
          37.01602582
         ],
         "line": {
          "color": "black",
          "width": 1
         },
         "lon": [
          23.53379,
          35.52573634
         ],
         "mode": "lines",
         "showlegend": false,
         "type": "scattergeo"
        },
        {
         "hoverinfo": "skip",
         "lat": [
          27.884516,
          37.94874
         ],
         "line": {
          "color": "black",
          "width": 1
         },
         "lon": [
          28.39896735,
          23.53379
         ],
         "mode": "lines",
         "showlegend": false,
         "type": "scattergeo"
        },
        {
         "hoverinfo": "skip",
         "lat": [
          37.971687,
          37.94874
         ],
         "line": {
          "color": "black",
          "width": 1
         },
         "lon": [
          23.726464,
          23.53379
         ],
         "mode": "lines",
         "showlegend": false,
         "type": "scattergeo"
        },
        {
         "hoverinfo": "skip",
         "lat": [
          35.14052197,
          37.94874
         ],
         "line": {
          "color": "black",
          "width": 1
         },
         "lon": [
          33.40349071,
          23.53379
         ],
         "mode": "lines",
         "showlegend": false,
         "type": "scattergeo"
        },
        {
         "hoverinfo": "skip",
         "lat": [
          35.23189721,
          37.94874
         ],
         "line": {
          "color": "black",
          "width": 1
         },
         "lon": [
          24.88625628,
          23.53379
         ],
         "mode": "lines",
         "showlegend": false,
         "type": "scattergeo"
        },
        {
         "hoverinfo": "skip",
         "lat": [
          37.971687,
          41.25
         ],
         "line": {
          "color": "black",
          "width": 1
         },
         "lon": [
          23.726464,
          21.75
         ],
         "mode": "lines",
         "showlegend": false,
         "type": "scattergeo"
        },
        {
         "hoverinfo": "skip",
         "lat": [
          31.201435,
          41.119444
         ],
         "line": {
          "color": "black",
          "width": 1
         },
         "lon": [
          29.909773,
          29.075278000000004
         ],
         "mode": "lines",
         "showlegend": false,
         "type": "scattergeo"
        },
        {
         "hoverinfo": "skip",
         "lat": [
          37.971687,
          37.99471
         ],
         "line": {
          "color": "black",
          "width": 1
         },
         "lon": [
          23.726464,
          23.34324
         ],
         "mode": "lines",
         "showlegend": false,
         "type": "scattergeo"
        },
        {
         "hoverinfo": "skip",
         "lat": [
          37.99471,
          37.75
         ],
         "line": {
          "color": "black",
          "width": 1
         },
         "lon": [
          23.34324,
          23.433333
         ],
         "mode": "lines",
         "showlegend": false,
         "type": "scattergeo"
        },
        {
         "hoverinfo": "skip",
         "lat": [
          35.23189721,
          33.25
         ],
         "line": {
          "color": "black",
          "width": 1
         },
         "lon": [
          24.88625628,
          35.25
         ],
         "mode": "lines",
         "showlegend": false,
         "type": "scattergeo"
        },
        {
         "hoverinfo": "skip",
         "lat": [
          27.884516,
          33.25
         ],
         "line": {
          "color": "black",
          "width": 1
         },
         "lon": [
          28.39896735,
          35.25
         ],
         "mode": "lines",
         "showlegend": false,
         "type": "scattergeo"
        },
        {
         "hoverinfo": "skip",
         "lat": [
          37.971687,
          33.25
         ],
         "line": {
          "color": "black",
          "width": 1
         },
         "lon": [
          23.726464,
          35.25
         ],
         "mode": "lines",
         "showlegend": false,
         "type": "scattergeo"
        },
        {
         "hoverinfo": "skip",
         "lat": [
          37.971687,
          32.8180895
         ],
         "line": {
          "color": "black",
          "width": 1
         },
         "lon": [
          23.726464,
          21.8578913
         ],
         "mode": "lines",
         "showlegend": false,
         "type": "scattergeo"
        },
        {
         "hoverinfo": "skip",
         "lat": [
          32.8180895,
          37.906045
         ],
         "line": {
          "color": "black",
          "width": 1
         },
         "lon": [
          21.8578913,
          22.878721
         ],
         "mode": "lines",
         "showlegend": false,
         "type": "scattergeo"
        },
        {
         "hoverinfo": "skip",
         "lat": [
          37.971687,
          36.730968
         ],
         "line": {
          "color": "black",
          "width": 1
         },
         "lon": [
          23.726464,
          27.685848
         ],
         "mode": "lines",
         "showlegend": false,
         "type": "scattergeo"
        },
        {
         "hoverinfo": "skip",
         "lat": [
          36.730968,
          37.938183
         ],
         "line": {
          "color": "black",
          "width": 1
         },
         "lon": [
          27.685848,
          23.645456
         ],
         "mode": "lines",
         "showlegend": false,
         "type": "scattergeo"
        },
        {
         "hoverinfo": "skip",
         "lat": [
          37.831664,
          40.983393
         ],
         "line": {
          "color": "black",
          "width": 1
         },
         "lon": [
          22.641069,
          29.025789000000003
         ],
         "mode": "lines",
         "showlegend": false,
         "type": "scattergeo"
        },
        {
         "hoverinfo": "skip",
         "lat": [
          37.831664,
          38.319236
         ],
         "line": {
          "color": "black",
          "width": 1
         },
         "lon": [
          22.641069,
          23.317355
         ],
         "mode": "lines",
         "showlegend": false,
         "type": "scattergeo"
        },
        {
         "hoverinfo": "skip",
         "lat": [
          37.891781,
          37.831664
         ],
         "line": {
          "color": "black",
          "width": 1
         },
         "lon": [
          21.375091,
          22.641069
         ],
         "mode": "lines",
         "showlegend": false,
         "type": "scattergeo"
        },
        {
         "hoverinfo": "skip",
         "lat": [
          37.831664,
          40.6666672
         ],
         "line": {
          "color": "black",
          "width": 1
         },
         "lon": [
          22.641069,
          28.2499999
         ],
         "mode": "lines",
         "showlegend": false,
         "type": "scattergeo"
        },
        {
         "hoverinfo": "skip",
         "lat": [
          37.99471,
          37.831664
         ],
         "line": {
          "color": "black",
          "width": 1
         },
         "lon": [
          23.34324,
          22.641069
         ],
         "mode": "lines",
         "showlegend": false,
         "type": "scattergeo"
        },
        {
         "hoverinfo": "skip",
         "lat": [
          37.971687,
          37.831664
         ],
         "line": {
          "color": "black",
          "width": 1
         },
         "lon": [
          23.726464,
          22.641069
         ],
         "mode": "lines",
         "showlegend": false,
         "type": "scattergeo"
        },
        {
         "hoverinfo": "skip",
         "lat": [
          37.971421,
          40.983393
         ],
         "line": {
          "color": "black",
          "width": 1
         },
         "lon": [
          23.726166,
          29.025789000000003
         ],
         "mode": "lines",
         "showlegend": false,
         "type": "scattergeo"
        },
        {
         "hoverinfo": "skip",
         "lat": [
          37.59995833,
          40.983393
         ],
         "line": {
          "color": "black",
          "width": 1
         },
         "lon": [
          14.01537778,
          29.025789000000003
         ],
         "mode": "lines",
         "showlegend": false,
         "type": "scattergeo"
        },
        {
         "hoverinfo": "skip",
         "lat": [
          38.109632,
          39.444248
         ],
         "line": {
          "color": "black",
          "width": 1
         },
         "lon": [
          27.14711,
          20.560388
         ],
         "mode": "lines",
         "showlegend": false,
         "type": "scattergeo"
        },
        {
         "hoverinfo": "skip",
         "lat": [
          38.109632,
          38.192251
         ],
         "line": {
          "color": "black",
          "width": 1
         },
         "lon": [
          27.14711,
          15.556634
         ],
         "mode": "lines",
         "showlegend": false,
         "type": "scattergeo"
        },
        {
         "hoverinfo": "skip",
         "lat": [
          38.109632,
          37.502959
         ],
         "line": {
          "color": "black",
          "width": 1
         },
         "lon": [
          27.14711,
          15.088142
         ],
         "mode": "lines",
         "showlegend": false,
         "type": "scattergeo"
        },
        {
         "hoverinfo": "skip",
         "lat": [
          37.59995833,
          38.109632
         ],
         "line": {
          "color": "black",
          "width": 1
         },
         "lon": [
          14.01537778,
          27.14711
         ],
         "mode": "lines",
         "showlegend": false,
         "type": "scattergeo"
        },
        {
         "hoverinfo": "skip",
         "lat": [
          37.971687,
          37.906045
         ],
         "line": {
          "color": "black",
          "width": 1
         },
         "lon": [
          23.726464,
          22.878721
         ],
         "mode": "lines",
         "showlegend": false,
         "type": "scattergeo"
        },
        {
         "hoverinfo": "skip",
         "lat": [
          37.971687,
          37.75
         ],
         "line": {
          "color": "black",
          "width": 1
         },
         "lon": [
          23.726464,
          21.75
         ],
         "mode": "lines",
         "showlegend": false,
         "type": "scattergeo"
        },
        {
         "hoverinfo": "skip",
         "lat": [
          37.971687,
          37.891781
         ],
         "line": {
          "color": "black",
          "width": 1
         },
         "lon": [
          23.726464,
          21.375091
         ],
         "mode": "lines",
         "showlegend": false,
         "type": "scattergeo"
        },
        {
         "hoverinfo": "skip",
         "lat": [
          37.971687,
          40.5
         ],
         "line": {
          "color": "black",
          "width": 1
         },
         "lon": [
          23.726464,
          36.5
         ],
         "mode": "lines",
         "showlegend": false,
         "type": "scattergeo"
        },
        {
         "hoverinfo": "skip",
         "lat": [
          37.971687,
          37.5
         ],
         "line": {
          "color": "black",
          "width": 1
         },
         "lon": [
          23.726464,
          22.5
         ],
         "mode": "lines",
         "showlegend": false,
         "type": "scattergeo"
        },
        {
         "hoverinfo": "skip",
         "lat": [
          37.971687,
          38.00339058
         ],
         "line": {
          "color": "black",
          "width": 1
         },
         "lon": [
          23.726464,
          28.583242
         ],
         "mode": "lines",
         "showlegend": false,
         "type": "scattergeo"
        },
        {
         "hoverinfo": "skip",
         "lat": [
          37.971687,
          37.432321
         ],
         "line": {
          "color": "black",
          "width": 1
         },
         "lon": [
          23.726464,
          21.726002
         ],
         "mode": "lines",
         "showlegend": false,
         "type": "scattergeo"
        },
        {
         "hoverinfo": "skip",
         "lat": [
          37.971687,
          38.351682
         ],
         "line": {
          "color": "black",
          "width": 1
         },
         "lon": [
          23.726464,
          23.653589
         ],
         "mode": "lines",
         "showlegend": false,
         "type": "scattergeo"
        },
        {
         "hoverinfo": "skip",
         "lat": [
          37.938183,
          34.929596999999994
         ],
         "line": {
          "color": "black",
          "width": 1
         },
         "lon": [
          23.645456,
          33.629471
         ],
         "mode": "lines",
         "showlegend": false,
         "type": "scattergeo"
        },
        {
         "hoverinfo": "skip",
         "lat": [
          37.971687,
          34.929596999999994
         ],
         "line": {
          "color": "black",
          "width": 1
         },
         "lon": [
          23.726464,
          33.629471
         ],
         "mode": "lines",
         "showlegend": false,
         "type": "scattergeo"
        },
        {
         "hoverinfo": "skip",
         "lat": [
          37.971687,
          37.831664
         ],
         "line": {
          "color": "black",
          "width": 1
         },
         "lon": [
          23.726464,
          22.641069
         ],
         "mode": "lines",
         "showlegend": false,
         "type": "scattergeo"
        },
        {
         "hoverinfo": "skip",
         "lat": [
          37.971687,
          37.616619
         ],
         "line": {
          "color": "black",
          "width": 1
         },
         "lon": [
          23.726464,
          22.391896
         ],
         "mode": "lines",
         "showlegend": false,
         "type": "scattergeo"
        },
        {
         "hoverinfo": "skip",
         "lat": [
          37.971687,
          37.891781
         ],
         "line": {
          "color": "black",
          "width": 1
         },
         "lon": [
          23.726464,
          21.375091
         ],
         "mode": "lines",
         "showlegend": false,
         "type": "scattergeo"
        }
       ],
       "layout": {
        "mapbox": {
         "center": {
          "lat": -20,
          "lon": -10
         },
         "style": "stamen-terrain",
         "zoom": 1
        },
        "template": {
         "data": {
          "bar": [
           {
            "error_x": {
             "color": "#2a3f5f"
            },
            "error_y": {
             "color": "#2a3f5f"
            },
            "marker": {
             "line": {
              "color": "#E5ECF6",
              "width": 0.5
             },
             "pattern": {
              "fillmode": "overlay",
              "size": 10,
              "solidity": 0.2
             }
            },
            "type": "bar"
           }
          ],
          "barpolar": [
           {
            "marker": {
             "line": {
              "color": "#E5ECF6",
              "width": 0.5
             },
             "pattern": {
              "fillmode": "overlay",
              "size": 10,
              "solidity": 0.2
             }
            },
            "type": "barpolar"
           }
          ],
          "carpet": [
           {
            "aaxis": {
             "endlinecolor": "#2a3f5f",
             "gridcolor": "white",
             "linecolor": "white",
             "minorgridcolor": "white",
             "startlinecolor": "#2a3f5f"
            },
            "baxis": {
             "endlinecolor": "#2a3f5f",
             "gridcolor": "white",
             "linecolor": "white",
             "minorgridcolor": "white",
             "startlinecolor": "#2a3f5f"
            },
            "type": "carpet"
           }
          ],
          "choropleth": [
           {
            "colorbar": {
             "outlinewidth": 0,
             "ticks": ""
            },
            "type": "choropleth"
           }
          ],
          "contour": [
           {
            "colorbar": {
             "outlinewidth": 0,
             "ticks": ""
            },
            "colorscale": [
             [
              0,
              "#0d0887"
             ],
             [
              0.1111111111111111,
              "#46039f"
             ],
             [
              0.2222222222222222,
              "#7201a8"
             ],
             [
              0.3333333333333333,
              "#9c179e"
             ],
             [
              0.4444444444444444,
              "#bd3786"
             ],
             [
              0.5555555555555556,
              "#d8576b"
             ],
             [
              0.6666666666666666,
              "#ed7953"
             ],
             [
              0.7777777777777778,
              "#fb9f3a"
             ],
             [
              0.8888888888888888,
              "#fdca26"
             ],
             [
              1,
              "#f0f921"
             ]
            ],
            "type": "contour"
           }
          ],
          "contourcarpet": [
           {
            "colorbar": {
             "outlinewidth": 0,
             "ticks": ""
            },
            "type": "contourcarpet"
           }
          ],
          "heatmap": [
           {
            "colorbar": {
             "outlinewidth": 0,
             "ticks": ""
            },
            "colorscale": [
             [
              0,
              "#0d0887"
             ],
             [
              0.1111111111111111,
              "#46039f"
             ],
             [
              0.2222222222222222,
              "#7201a8"
             ],
             [
              0.3333333333333333,
              "#9c179e"
             ],
             [
              0.4444444444444444,
              "#bd3786"
             ],
             [
              0.5555555555555556,
              "#d8576b"
             ],
             [
              0.6666666666666666,
              "#ed7953"
             ],
             [
              0.7777777777777778,
              "#fb9f3a"
             ],
             [
              0.8888888888888888,
              "#fdca26"
             ],
             [
              1,
              "#f0f921"
             ]
            ],
            "type": "heatmap"
           }
          ],
          "heatmapgl": [
           {
            "colorbar": {
             "outlinewidth": 0,
             "ticks": ""
            },
            "colorscale": [
             [
              0,
              "#0d0887"
             ],
             [
              0.1111111111111111,
              "#46039f"
             ],
             [
              0.2222222222222222,
              "#7201a8"
             ],
             [
              0.3333333333333333,
              "#9c179e"
             ],
             [
              0.4444444444444444,
              "#bd3786"
             ],
             [
              0.5555555555555556,
              "#d8576b"
             ],
             [
              0.6666666666666666,
              "#ed7953"
             ],
             [
              0.7777777777777778,
              "#fb9f3a"
             ],
             [
              0.8888888888888888,
              "#fdca26"
             ],
             [
              1,
              "#f0f921"
             ]
            ],
            "type": "heatmapgl"
           }
          ],
          "histogram": [
           {
            "marker": {
             "pattern": {
              "fillmode": "overlay",
              "size": 10,
              "solidity": 0.2
             }
            },
            "type": "histogram"
           }
          ],
          "histogram2d": [
           {
            "colorbar": {
             "outlinewidth": 0,
             "ticks": ""
            },
            "colorscale": [
             [
              0,
              "#0d0887"
             ],
             [
              0.1111111111111111,
              "#46039f"
             ],
             [
              0.2222222222222222,
              "#7201a8"
             ],
             [
              0.3333333333333333,
              "#9c179e"
             ],
             [
              0.4444444444444444,
              "#bd3786"
             ],
             [
              0.5555555555555556,
              "#d8576b"
             ],
             [
              0.6666666666666666,
              "#ed7953"
             ],
             [
              0.7777777777777778,
              "#fb9f3a"
             ],
             [
              0.8888888888888888,
              "#fdca26"
             ],
             [
              1,
              "#f0f921"
             ]
            ],
            "type": "histogram2d"
           }
          ],
          "histogram2dcontour": [
           {
            "colorbar": {
             "outlinewidth": 0,
             "ticks": ""
            },
            "colorscale": [
             [
              0,
              "#0d0887"
             ],
             [
              0.1111111111111111,
              "#46039f"
             ],
             [
              0.2222222222222222,
              "#7201a8"
             ],
             [
              0.3333333333333333,
              "#9c179e"
             ],
             [
              0.4444444444444444,
              "#bd3786"
             ],
             [
              0.5555555555555556,
              "#d8576b"
             ],
             [
              0.6666666666666666,
              "#ed7953"
             ],
             [
              0.7777777777777778,
              "#fb9f3a"
             ],
             [
              0.8888888888888888,
              "#fdca26"
             ],
             [
              1,
              "#f0f921"
             ]
            ],
            "type": "histogram2dcontour"
           }
          ],
          "mesh3d": [
           {
            "colorbar": {
             "outlinewidth": 0,
             "ticks": ""
            },
            "type": "mesh3d"
           }
          ],
          "parcoords": [
           {
            "line": {
             "colorbar": {
              "outlinewidth": 0,
              "ticks": ""
             }
            },
            "type": "parcoords"
           }
          ],
          "pie": [
           {
            "automargin": true,
            "type": "pie"
           }
          ],
          "scatter": [
           {
            "marker": {
             "colorbar": {
              "outlinewidth": 0,
              "ticks": ""
             }
            },
            "type": "scatter"
           }
          ],
          "scatter3d": [
           {
            "line": {
             "colorbar": {
              "outlinewidth": 0,
              "ticks": ""
             }
            },
            "marker": {
             "colorbar": {
              "outlinewidth": 0,
              "ticks": ""
             }
            },
            "type": "scatter3d"
           }
          ],
          "scattercarpet": [
           {
            "marker": {
             "colorbar": {
              "outlinewidth": 0,
              "ticks": ""
             }
            },
            "type": "scattercarpet"
           }
          ],
          "scattergeo": [
           {
            "marker": {
             "colorbar": {
              "outlinewidth": 0,
              "ticks": ""
             }
            },
            "type": "scattergeo"
           }
          ],
          "scattergl": [
           {
            "marker": {
             "colorbar": {
              "outlinewidth": 0,
              "ticks": ""
             }
            },
            "type": "scattergl"
           }
          ],
          "scattermapbox": [
           {
            "marker": {
             "colorbar": {
              "outlinewidth": 0,
              "ticks": ""
             }
            },
            "type": "scattermapbox"
           }
          ],
          "scatterpolar": [
           {
            "marker": {
             "colorbar": {
              "outlinewidth": 0,
              "ticks": ""
             }
            },
            "type": "scatterpolar"
           }
          ],
          "scatterpolargl": [
           {
            "marker": {
             "colorbar": {
              "outlinewidth": 0,
              "ticks": ""
             }
            },
            "type": "scatterpolargl"
           }
          ],
          "scatterternary": [
           {
            "marker": {
             "colorbar": {
              "outlinewidth": 0,
              "ticks": ""
             }
            },
            "type": "scatterternary"
           }
          ],
          "surface": [
           {
            "colorbar": {
             "outlinewidth": 0,
             "ticks": ""
            },
            "colorscale": [
             [
              0,
              "#0d0887"
             ],
             [
              0.1111111111111111,
              "#46039f"
             ],
             [
              0.2222222222222222,
              "#7201a8"
             ],
             [
              0.3333333333333333,
              "#9c179e"
             ],
             [
              0.4444444444444444,
              "#bd3786"
             ],
             [
              0.5555555555555556,
              "#d8576b"
             ],
             [
              0.6666666666666666,
              "#ed7953"
             ],
             [
              0.7777777777777778,
              "#fb9f3a"
             ],
             [
              0.8888888888888888,
              "#fdca26"
             ],
             [
              1,
              "#f0f921"
             ]
            ],
            "type": "surface"
           }
          ],
          "table": [
           {
            "cells": {
             "fill": {
              "color": "#EBF0F8"
             },
             "line": {
              "color": "white"
             }
            },
            "header": {
             "fill": {
              "color": "#C8D4E3"
             },
             "line": {
              "color": "white"
             }
            },
            "type": "table"
           }
          ]
         },
         "layout": {
          "annotationdefaults": {
           "arrowcolor": "#2a3f5f",
           "arrowhead": 0,
           "arrowwidth": 1
          },
          "autotypenumbers": "strict",
          "coloraxis": {
           "colorbar": {
            "outlinewidth": 0,
            "ticks": ""
           }
          },
          "colorscale": {
           "diverging": [
            [
             0,
             "#8e0152"
            ],
            [
             0.1,
             "#c51b7d"
            ],
            [
             0.2,
             "#de77ae"
            ],
            [
             0.3,
             "#f1b6da"
            ],
            [
             0.4,
             "#fde0ef"
            ],
            [
             0.5,
             "#f7f7f7"
            ],
            [
             0.6,
             "#e6f5d0"
            ],
            [
             0.7,
             "#b8e186"
            ],
            [
             0.8,
             "#7fbc41"
            ],
            [
             0.9,
             "#4d9221"
            ],
            [
             1,
             "#276419"
            ]
           ],
           "sequential": [
            [
             0,
             "#0d0887"
            ],
            [
             0.1111111111111111,
             "#46039f"
            ],
            [
             0.2222222222222222,
             "#7201a8"
            ],
            [
             0.3333333333333333,
             "#9c179e"
            ],
            [
             0.4444444444444444,
             "#bd3786"
            ],
            [
             0.5555555555555556,
             "#d8576b"
            ],
            [
             0.6666666666666666,
             "#ed7953"
            ],
            [
             0.7777777777777778,
             "#fb9f3a"
            ],
            [
             0.8888888888888888,
             "#fdca26"
            ],
            [
             1,
             "#f0f921"
            ]
           ],
           "sequentialminus": [
            [
             0,
             "#0d0887"
            ],
            [
             0.1111111111111111,
             "#46039f"
            ],
            [
             0.2222222222222222,
             "#7201a8"
            ],
            [
             0.3333333333333333,
             "#9c179e"
            ],
            [
             0.4444444444444444,
             "#bd3786"
            ],
            [
             0.5555555555555556,
             "#d8576b"
            ],
            [
             0.6666666666666666,
             "#ed7953"
            ],
            [
             0.7777777777777778,
             "#fb9f3a"
            ],
            [
             0.8888888888888888,
             "#fdca26"
            ],
            [
             1,
             "#f0f921"
            ]
           ]
          },
          "colorway": [
           "#636efa",
           "#EF553B",
           "#00cc96",
           "#ab63fa",
           "#FFA15A",
           "#19d3f3",
           "#FF6692",
           "#B6E880",
           "#FF97FF",
           "#FECB52"
          ],
          "font": {
           "color": "#2a3f5f"
          },
          "geo": {
           "bgcolor": "white",
           "lakecolor": "white",
           "landcolor": "#E5ECF6",
           "showlakes": true,
           "showland": true,
           "subunitcolor": "white"
          },
          "hoverlabel": {
           "align": "left"
          },
          "hovermode": "closest",
          "mapbox": {
           "style": "light"
          },
          "paper_bgcolor": "white",
          "plot_bgcolor": "#E5ECF6",
          "polar": {
           "angularaxis": {
            "gridcolor": "white",
            "linecolor": "white",
            "ticks": ""
           },
           "bgcolor": "#E5ECF6",
           "radialaxis": {
            "gridcolor": "white",
            "linecolor": "white",
            "ticks": ""
           }
          },
          "scene": {
           "xaxis": {
            "backgroundcolor": "#E5ECF6",
            "gridcolor": "white",
            "gridwidth": 2,
            "linecolor": "white",
            "showbackground": true,
            "ticks": "",
            "zerolinecolor": "white"
           },
           "yaxis": {
            "backgroundcolor": "#E5ECF6",
            "gridcolor": "white",
            "gridwidth": 2,
            "linecolor": "white",
            "showbackground": true,
            "ticks": "",
            "zerolinecolor": "white"
           },
           "zaxis": {
            "backgroundcolor": "#E5ECF6",
            "gridcolor": "white",
            "gridwidth": 2,
            "linecolor": "white",
            "showbackground": true,
            "ticks": "",
            "zerolinecolor": "white"
           }
          },
          "shapedefaults": {
           "line": {
            "color": "#2a3f5f"
           }
          },
          "ternary": {
           "aaxis": {
            "gridcolor": "white",
            "linecolor": "white",
            "ticks": ""
           },
           "baxis": {
            "gridcolor": "white",
            "linecolor": "white",
            "ticks": ""
           },
           "bgcolor": "#E5ECF6",
           "caxis": {
            "gridcolor": "white",
            "linecolor": "white",
            "ticks": ""
           }
          },
          "title": {
           "x": 0.05
          },
          "xaxis": {
           "automargin": true,
           "gridcolor": "white",
           "linecolor": "white",
           "ticks": "",
           "title": {
            "standoff": 15
           },
           "zerolinecolor": "white",
           "zerolinewidth": 2
          },
          "yaxis": {
           "automargin": true,
           "gridcolor": "white",
           "linecolor": "white",
           "ticks": "",
           "title": {
            "standoff": 15
           },
           "zerolinecolor": "white",
           "zerolinewidth": 2
          }
         }
        }
       }
      }
     },
     "metadata": {},
     "output_type": "display_data"
    }
   ],
   "source": [
    "import pandas as pd\n",
    "import plotly.graph_objects as go\n",
    "#datframe de viajes\n",
    "df = pd.read_csv('newdata.csv')\n",
    "print(df.head())\n",
    "\n",
    "fig = go.Figure()\n",
    "\n",
    "fig.add_trace(go.Scattergeo(\n",
    "    lon = df[\"SourceLongitude\"],\n",
    "    lat = df[\"SourceLatitude\"],\n",
    "    hoverinfo = 'lon+lat+text',\n",
    "    text = df[\"Source\"],\n",
    "    mode = 'markers',\n",
    "    showlegend=False,\n",
    "    marker = dict(\n",
    "        size = df[\"SourceSize\"]*1.5,\n",
    "        color = df[\"SourceColor\"],\n",
    "        line = dict(\n",
    "            width = df[\"SourceSize\"],\n",
    "            color = df[\"SourceColor\"]\n",
    "        )\n",
    "    )))\n",
    "\n",
    "fig.add_trace(go.Scattergeo(\n",
    "    lon = df[\"DestLongitude\"],\n",
    "    lat = df[\"DestLatitude\"],\n",
    "    hoverinfo = 'lon+lat+text',\n",
    "    text = df[\"Destination\"],\n",
    "    mode = 'markers',\n",
    "    showlegend=False,\n",
    "    marker = dict(\n",
    "        size = df[\"DestinationSize\"]*1.5,\n",
    "        color = df[\"DestinationSize\"],\n",
    "        showscale=True,\n",
    "        line = dict(\n",
    "            width = df[\"DestinationSize\"],\n",
    "            color = df[\"DestinationSize\"]\n",
    "        )\n",
    "    )))\n",
    "\n",
    "\n",
    "for i in range(len(df)):\n",
    "    fig.add_trace(\n",
    "        go.Scattergeo(\n",
    "            lon = [df[\"SourceLongitude\"][i], df[\"DestLongitude\"][i]],\n",
    "            lat = [df[\"SourceLatitude\"][i], df[\"DestLatitude\"][i]],\n",
    "            hoverinfo='skip',\n",
    "            mode = 'lines',\n",
    "            line = dict(width = 1,color = 'black'),\n",
    "            showlegend=False,\n",
    "        )\n",
    "    )\n",
    "\n",
    "fig.update_layout(\n",
    "    mapbox = {\n",
    "        'center': {'lon': 10, 'lat': 10},\n",
    "        'style': \"stamen-terrain\",\n",
    "        'center': {'lon': -10, 'lat': -20},\n",
    "        'zoom': 1}\n",
    ")\n",
    "\n",
    "fig.show()\n",
    "\n",
    "\n"
   ]
  }
 ],
 "metadata": {
  "interpreter": {
   "hash": "38a49bd8937a8c50cfc423d541f863274ce17f109d9fce14d3730cd3435d747d"
  },
  "kernelspec": {
   "display_name": "Python 3.8.12 64-bit ('base': conda)",
   "language": "python",
   "name": "python3"
  },
  "language_info": {
   "codemirror_mode": {
    "name": "ipython",
    "version": 3
   },
   "file_extension": ".py",
   "mimetype": "text/x-python",
   "name": "python",
   "nbconvert_exporter": "python",
   "pygments_lexer": "ipython3",
   "version": "3.8.12"
  },
  "orig_nbformat": 4
 },
 "nbformat": 4,
 "nbformat_minor": 2
}
